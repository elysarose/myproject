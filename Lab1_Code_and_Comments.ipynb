{
 "cells": [
  {
   "cell_type": "markdown",
   "metadata": {},
   "source": [
    "## Lab 1 - Code & Comments\n",
    "Elysa Strunin  \n",
    "September 2018  "
   ]
  },
  {
   "cell_type": "code",
   "execution_count": 1,
   "metadata": {
    "collapsed": true
   },
   "outputs": [],
   "source": [
    "import json\n",
    "import pandas as pd\n",
    "import numpy as np\n",
    "import seaborn as sns\n",
    "from pandas.io.json import json_normalize\n",
    "\n",
    "from sklearn.model_selection import cross_val_score\n",
    "from sklearn.ensemble import RandomForestClassifier\n",
    "from sklearn.model_selection import train_test_split\n",
    "from sklearn.metrics import accuracy_score\n",
    "from sklearn.metrics import confusion_matrix\n",
    "from sklearn import preprocessing\n",
    "from sklearn.decomposition import PCA\n",
    "\n",
    "from pybedtools import BedTool\n",
    "import matplotlib\n",
    "import matplotlib.pyplot as plt"
   ]
  },
  {
   "cell_type": "markdown",
   "metadata": {},
   "source": [
    "### I. Data Preparation"
   ]
  },
  {
   "cell_type": "code",
   "execution_count": 2,
   "metadata": {
    "collapsed": true
   },
   "outputs": [],
   "source": [
    "# Data Loading and Parsing\n",
    "\n",
    "# Parse data with json package\n",
    "# Note that 'out.json' is the data specified in the assignment\n",
    "with open('out.json') as exampleData2:\n",
    "    parsedData2 = json.load(exampleData2)\n",
    "\n",
    "# Create dictionary organized by observation (i.e., \"hit\")\n",
    "hitsDictionary = parsedData2[\"data\"][\"hits\"]\n",
    "\n",
    "# Normalize the data into a dataframe\n",
    "df = pd.io.json.json_normalize(hitsDictionary)\n",
    "\n",
    "# Modify column headings\n",
    "df.columns = df.columns.map(lambda x: x.split(\".\")[-1])"
   ]
  },
  {
   "cell_type": "code",
   "execution_count": 3,
   "metadata": {
    "collapsed": true
   },
   "outputs": [],
   "source": [
    "# Data Cleaning\n",
    "\n",
    "# Under the assumption that only one distinct gene is cited in the \"consequence\" column,\n",
    "# extract gene name and place in new column\n",
    "def gene_extract(row):\n",
    "    entry = row['consequence']\n",
    "    entry_transform = entry[0][\"transcript\"][\"gene\"][\"symbol\"]\n",
    "    return entry_transform\n",
    "\n",
    "df['gene_symbol'] = df.apply (lambda row: gene_extract(row), axis=1)"
   ]
  },
  {
   "cell_type": "code",
   "execution_count": 4,
   "metadata": {
    "collapsed": true
   },
   "outputs": [],
   "source": [
    "# Attribute Creation\n",
    "\n",
    "#Count the number of times that the gene was cited in the \"consequence\" column,\n",
    "# in order to use it later as a measure of strength of gene expression (?)\n",
    "def gene_count(row):\n",
    "    entry = row['consequence']\n",
    "    entry_transform = len(entry)\n",
    "    return entry_transform\n",
    "\n",
    "df['gene_citations'] = df.apply (lambda row: gene_count(row), axis=1)"
   ]
  },
  {
   "cell_type": "code",
   "execution_count": 5,
   "metadata": {
    "collapsed": true
   },
   "outputs": [],
   "source": [
    "# More Data Cleaning\n",
    "\n",
    "# Delete the consequence column - no additional information here\n",
    "del df['consequence']\n",
    "\n",
    "# Checked that there is only one distinct mutation type and mutation subtype:\n",
    "# therefore delete those two columns:\n",
    "del df['mutation_type']\n",
    "del df['mutation_subtype']"
   ]
  },
  {
   "cell_type": "code",
   "execution_count": 6,
   "metadata": {},
   "outputs": [
    {
     "name": "stdout",
     "output_type": "stream",
     "text": [
      "No repeat IDs?: True\n",
      "Number of primary cancer sites: 26\n",
      "Number of cases: 9097\n",
      "Number of projects: 33\n",
      "Number of chromosomes: 24\n",
      "Number of genes: 18177\n",
      "Number of start positions: 159995\n"
     ]
    }
   ],
   "source": [
    "# Sanity Checks - see printout\n",
    "\n",
    "df_count = df['id'].nunique()\n",
    "print(\"No repeat IDs?:\", df_count == df.shape[0])\n",
    "df_count2 = df['primary_site'].nunique()\n",
    "print(\"Number of primary cancer sites:\", df_count2)\n",
    "df_count3 = df['case_id'].nunique()\n",
    "print(\"Number of cases:\", df_count3)\n",
    "df_count4 = df['project_id'].nunique()\n",
    "print(\"Number of projects:\", df_count4)\n",
    "df_count5 = df[\"chromosome\"].nunique()\n",
    "print(\"Number of chromosomes:\", df_count5)\n",
    "df_count6 = df[\"gene_symbol\"].nunique()\n",
    "print(\"Number of genes:\", df_count6)\n",
    "df_count7 = df[\"start_position\"].nunique()\n",
    "print(\"Number of start positions:\", df_count7)"
   ]
  },
  {
   "cell_type": "code",
   "execution_count": 7,
   "metadata": {
    "collapsed": true
   },
   "outputs": [],
   "source": [
    "# More Data Cleaning\n",
    "\n",
    "# Delete id because meaningless\n",
    "del df['id']\n",
    "\n",
    "# End position never differs from start position (checked), therefore can delete one\n",
    "del df['end_position']\n",
    "\n",
    "# Tested that the chromosome in genomic_dna_change always equals the given chromosome\n",
    "\n",
    "# Closer look at SNP base changes\n",
    "df['bases'] = df['genomic_dna_change'].str.slice(start=-3, stop=None, step=None)\n",
    "\n",
    "# Identify the order of bases involved in the changes\n",
    "df['bases_first'] = df['bases'].str.slice(start=0, stop=1, step=None)\n",
    "df['bases_second'] = df['bases'].str.slice(start=2, stop=3, step=None)\n",
    "\n",
    "# Note that the project_id is probably a label and relates to the primary_site label - cannot use as feature!\n",
    "del df['project_id']"
   ]
  },
  {
   "cell_type": "markdown",
   "metadata": {},
   "source": [
    "### II. Feature Creation"
   ]
  },
  {
   "cell_type": "markdown",
   "metadata": {},
   "source": [
    "#### a. Feature Creation - Obtain closest gene"
   ]
  },
  {
   "cell_type": "code",
   "execution_count": 8,
   "metadata": {
    "collapsed": true
   },
   "outputs": [],
   "source": [
    "# Preprocess the features for use in classifier:\n",
    "\n",
    "# Chromosomes and bases can be one-hot encoded; will use start position and number of gene citations as-is\n",
    "one_hot_chromosome = pd.get_dummies(df[['chromosome']], drop_first=True)\n",
    "one_hot_bases = pd.get_dummies(df[['bases', 'bases_first', 'bases_second']], drop_first=True)  \n",
    "data = pd.concat([df[[ 'start_position', 'gene_citations']], one_hot_chromosome, one_hot_bases], axis=1)\n",
    "\n",
    "# Labels\n",
    "target = np.ravel(np.array(df[['primary_site']]))"
   ]
  },
  {
   "cell_type": "code",
   "execution_count": 9,
   "metadata": {
    "collapsed": true
   },
   "outputs": [],
   "source": [
    "# Load the BEDfile and make sense of it\n",
    "\n",
    "genes = BedTool('gencode.v22.annotation.bed.gz')\n",
    "genes = genes.sort()\n",
    "bedfile = df.loc[:,('chromosome','start_position', 'start_position')]\n",
    "bedfile = BedTool(np.ndarray.tolist(np.array(bedfile)))\n",
    "bedfile = bedfile.sort()"
   ]
  },
  {
   "cell_type": "code",
   "execution_count": 10,
   "metadata": {
    "collapsed": true
   },
   "outputs": [],
   "source": [
    "# For processing\n",
    "def hack1(x):\n",
    "    if (x == 'X'):\n",
    "        return 50\n",
    "    else:\n",
    "        if (x=='Y'):\n",
    "            return 51\n",
    "        else:\n",
    "            return x"
   ]
  },
  {
   "cell_type": "code",
   "execution_count": 11,
   "metadata": {
    "collapsed": true
   },
   "outputs": [],
   "source": [
    "# Create a lookup table to map each SNP to its closest gene\n",
    "empty = np.zeros((214819, 4))\n",
    "count=0\n",
    "\n",
    "# Return the closest gene per SNP\n",
    "for nearest in BedTool(bedfile).closest(genes):\n",
    "    #print(nearest[1]) #[4:5]\n",
    "    empty[count,0] = hack1(nearest[0][3:])\n",
    "    empty[count,1] = nearest[1]\n",
    "    empty[count,2] = hack1(nearest[3][3:])\n",
    "    empty[count,3] = nearest[4]\n",
    "    count += 1\n",
    "    \n",
    "# Conclusion: The returned genes are 21,000 start positions -\n",
    "# The range of start positions looks meaningful without chromosome number - not sure\n",
    "# (Range of the startpoint looks like it's distinct per chromosome)"
   ]
  },
  {
   "cell_type": "code",
   "execution_count": 12,
   "metadata": {
    "collapsed": true
   },
   "outputs": [],
   "source": [
    "# Convert lookup table to dictionary\n",
    "empty = empty.astype(int)\n",
    "keys1 = empty[:,0]\n",
    "keys2 = empty[:,1]\n",
    "values = empty[:,3]\n",
    "mydict = dict(zip( zip(keys1.astype(int), keys2.astype(int)), values.astype(int)))"
   ]
  },
  {
   "cell_type": "code",
   "execution_count": 13,
   "metadata": {
    "collapsed": true
   },
   "outputs": [],
   "source": [
    "# Make a new chromosome col to conform with the dictionary\n",
    "df['new_chr'] = df['chromosome'].str.slice(3,)\n",
    "df['new_chr'] = df['new_chr'] .apply (hack1)\n",
    "\n",
    "empty_list = []\n",
    "\n",
    "tuples = zip(np.array(df['new_chr']).astype(int), np.array(df['start_position']))\n",
    "\n",
    "for x,y in tuples:\n",
    "    empty_list.append( mydict[(x,y)] )\n",
    "\n",
    "# Finally, input the closest gene into the main data frame    \n",
    "df['closest'] = empty_list"
   ]
  },
  {
   "cell_type": "code",
   "execution_count": 14,
   "metadata": {
    "collapsed": true
   },
   "outputs": [],
   "source": [
    "# Aggregate the various SNPs and associated data on a per-case basis\n",
    "data3 = pd.concat([df[[ 'case_id', 'primary_site', 'closest']], data], axis=1)\n",
    "\n",
    "cases = pd.DataFrame(0, index=[0], columns=data3.columns[2:])\n",
    "\n",
    "target = []\n",
    "\n",
    "for n in df['case_id'].unique():\n",
    "    new_case = pd.DataFrame(data3[data3['case_id']== n ])\n",
    "    \n",
    "    new_primary_site = np.array(new_case.primary_site)[0]\n",
    "    target.append(new_primary_site)\n",
    "\n",
    "    del new_case['case_id']\n",
    "    del new_case['primary_site']\n",
    "\n",
    "    #Key step: Average across the one-hots within a case (tried median also)\n",
    "    new_mat = pd.DataFrame(new_case.mean(axis=0)).T \n",
    "    cases = cases.append(new_mat)\n",
    "\n",
    "cases = cases.iloc[1:] "
   ]
  },
  {
   "cell_type": "code",
   "execution_count": 15,
   "metadata": {},
   "outputs": [
    {
     "data": {
      "text/html": [
       "<div>\n",
       "<style scoped>\n",
       "    .dataframe tbody tr th:only-of-type {\n",
       "        vertical-align: middle;\n",
       "    }\n",
       "\n",
       "    .dataframe tbody tr th {\n",
       "        vertical-align: top;\n",
       "    }\n",
       "\n",
       "    .dataframe thead th {\n",
       "        text-align: right;\n",
       "    }\n",
       "</style>\n",
       "<table border=\"1\" class=\"dataframe\">\n",
       "  <thead>\n",
       "    <tr style=\"text-align: right;\">\n",
       "      <th></th>\n",
       "      <th>count</th>\n",
       "    </tr>\n",
       "  </thead>\n",
       "  <tbody>\n",
       "    <tr>\n",
       "      <th>Uterus</th>\n",
       "      <td>573</td>\n",
       "    </tr>\n",
       "    <tr>\n",
       "      <th>Brain</th>\n",
       "      <td>789</td>\n",
       "    </tr>\n",
       "    <tr>\n",
       "      <th>Colorectal</th>\n",
       "      <td>535</td>\n",
       "    </tr>\n",
       "    <tr>\n",
       "      <th>Cervix</th>\n",
       "      <td>283</td>\n",
       "    </tr>\n",
       "    <tr>\n",
       "      <th>Soft Tissue</th>\n",
       "      <td>210</td>\n",
       "    </tr>\n",
       "  </tbody>\n",
       "</table>\n",
       "</div>"
      ],
      "text/plain": [
       "             count\n",
       "Uterus         573\n",
       "Brain          789\n",
       "Colorectal     535\n",
       "Cervix         283\n",
       "Soft Tissue    210"
      ]
     },
     "execution_count": 15,
     "metadata": {},
     "output_type": "execute_result"
    }
   ],
   "source": [
    "#View the target label counts\n",
    "counts = pd.DataFrame(index=pd.Series(target).unique(),columns=['count'])\n",
    "\n",
    "for i in pd.Series(target).unique():\n",
    "    counts.loc[i, 'count'] = np.sum(pd.Series(target) == i)\n",
    "    \n",
    "counts.iloc[:5,:]"
   ]
  },
  {
   "cell_type": "code",
   "execution_count": 16,
   "metadata": {},
   "outputs": [
    {
     "data": {
      "text/html": [
       "<div>\n",
       "<style scoped>\n",
       "    .dataframe tbody tr th:only-of-type {\n",
       "        vertical-align: middle;\n",
       "    }\n",
       "\n",
       "    .dataframe tbody tr th {\n",
       "        vertical-align: top;\n",
       "    }\n",
       "\n",
       "    .dataframe thead th {\n",
       "        text-align: right;\n",
       "    }\n",
       "</style>\n",
       "<table border=\"1\" class=\"dataframe\">\n",
       "  <thead>\n",
       "    <tr style=\"text-align: right;\">\n",
       "      <th></th>\n",
       "      <th>closest</th>\n",
       "      <th>start_position</th>\n",
       "      <th>gene_citations</th>\n",
       "      <th>chromosome_chr10</th>\n",
       "      <th>chromosome_chr11</th>\n",
       "      <th>chromosome_chr12</th>\n",
       "      <th>chromosome_chr13</th>\n",
       "      <th>chromosome_chr14</th>\n",
       "      <th>chromosome_chr15</th>\n",
       "      <th>chromosome_chr16</th>\n",
       "      <th>...</th>\n",
       "      <th>bases_G&gt;T</th>\n",
       "      <th>bases_T&gt;A</th>\n",
       "      <th>bases_T&gt;C</th>\n",
       "      <th>bases_T&gt;G</th>\n",
       "      <th>bases_first_C</th>\n",
       "      <th>bases_first_G</th>\n",
       "      <th>bases_first_T</th>\n",
       "      <th>bases_second_C</th>\n",
       "      <th>bases_second_G</th>\n",
       "      <th>bases_second_T</th>\n",
       "    </tr>\n",
       "  </thead>\n",
       "  <tbody>\n",
       "    <tr>\n",
       "      <th>0</th>\n",
       "      <td>8.635879e+07</td>\n",
       "      <td>8.643866e+07</td>\n",
       "      <td>5.310881</td>\n",
       "      <td>0.051813</td>\n",
       "      <td>0.041451</td>\n",
       "      <td>0.044905</td>\n",
       "      <td>0.025907</td>\n",
       "      <td>0.022453</td>\n",
       "      <td>0.024180</td>\n",
       "      <td>0.015544</td>\n",
       "      <td>...</td>\n",
       "      <td>0.367876</td>\n",
       "      <td>0.003454</td>\n",
       "      <td>0.005181</td>\n",
       "      <td>0.018998</td>\n",
       "      <td>0.493955</td>\n",
       "      <td>0.464594</td>\n",
       "      <td>0.027634</td>\n",
       "      <td>0.013817</td>\n",
       "      <td>0.020725</td>\n",
       "      <td>0.504318</td>\n",
       "    </tr>\n",
       "    <tr>\n",
       "      <th>0</th>\n",
       "      <td>9.606945e+07</td>\n",
       "      <td>9.610903e+07</td>\n",
       "      <td>6.419355</td>\n",
       "      <td>0.032258</td>\n",
       "      <td>0.129032</td>\n",
       "      <td>0.096774</td>\n",
       "      <td>0.032258</td>\n",
       "      <td>0.000000</td>\n",
       "      <td>0.064516</td>\n",
       "      <td>0.096774</td>\n",
       "      <td>...</td>\n",
       "      <td>0.161290</td>\n",
       "      <td>0.129032</td>\n",
       "      <td>0.000000</td>\n",
       "      <td>0.064516</td>\n",
       "      <td>0.419355</td>\n",
       "      <td>0.290323</td>\n",
       "      <td>0.193548</td>\n",
       "      <td>0.064516</td>\n",
       "      <td>0.161290</td>\n",
       "      <td>0.419355</td>\n",
       "    </tr>\n",
       "    <tr>\n",
       "      <th>0</th>\n",
       "      <td>8.175637e+07</td>\n",
       "      <td>8.181654e+07</td>\n",
       "      <td>5.776280</td>\n",
       "      <td>0.024259</td>\n",
       "      <td>0.043127</td>\n",
       "      <td>0.040431</td>\n",
       "      <td>0.016173</td>\n",
       "      <td>0.056604</td>\n",
       "      <td>0.051213</td>\n",
       "      <td>0.018868</td>\n",
       "      <td>...</td>\n",
       "      <td>0.353100</td>\n",
       "      <td>0.005391</td>\n",
       "      <td>0.005391</td>\n",
       "      <td>0.032345</td>\n",
       "      <td>0.485175</td>\n",
       "      <td>0.442049</td>\n",
       "      <td>0.043127</td>\n",
       "      <td>0.029650</td>\n",
       "      <td>0.037736</td>\n",
       "      <td>0.447439</td>\n",
       "    </tr>\n",
       "    <tr>\n",
       "      <th>0</th>\n",
       "      <td>8.687031e+07</td>\n",
       "      <td>8.694008e+07</td>\n",
       "      <td>5.756906</td>\n",
       "      <td>0.034530</td>\n",
       "      <td>0.059392</td>\n",
       "      <td>0.064917</td>\n",
       "      <td>0.019337</td>\n",
       "      <td>0.033149</td>\n",
       "      <td>0.037293</td>\n",
       "      <td>0.020718</td>\n",
       "      <td>...</td>\n",
       "      <td>0.215470</td>\n",
       "      <td>0.008287</td>\n",
       "      <td>0.033149</td>\n",
       "      <td>0.001381</td>\n",
       "      <td>0.426796</td>\n",
       "      <td>0.495856</td>\n",
       "      <td>0.042818</td>\n",
       "      <td>0.037293</td>\n",
       "      <td>0.017956</td>\n",
       "      <td>0.494475</td>\n",
       "    </tr>\n",
       "    <tr>\n",
       "      <th>0</th>\n",
       "      <td>8.028179e+07</td>\n",
       "      <td>8.034697e+07</td>\n",
       "      <td>5.499405</td>\n",
       "      <td>0.040428</td>\n",
       "      <td>0.053508</td>\n",
       "      <td>0.063020</td>\n",
       "      <td>0.027348</td>\n",
       "      <td>0.027348</td>\n",
       "      <td>0.043995</td>\n",
       "      <td>0.016647</td>\n",
       "      <td>...</td>\n",
       "      <td>0.306778</td>\n",
       "      <td>0.007134</td>\n",
       "      <td>0.008323</td>\n",
       "      <td>0.011891</td>\n",
       "      <td>0.500595</td>\n",
       "      <td>0.443520</td>\n",
       "      <td>0.027348</td>\n",
       "      <td>0.019025</td>\n",
       "      <td>0.026159</td>\n",
       "      <td>0.451843</td>\n",
       "    </tr>\n",
       "  </tbody>\n",
       "</table>\n",
       "<p>5 rows × 43 columns</p>\n",
       "</div>"
      ],
      "text/plain": [
       "        closest  start_position  gene_citations  chromosome_chr10  \\\n",
       "0  8.635879e+07    8.643866e+07        5.310881          0.051813   \n",
       "0  9.606945e+07    9.610903e+07        6.419355          0.032258   \n",
       "0  8.175637e+07    8.181654e+07        5.776280          0.024259   \n",
       "0  8.687031e+07    8.694008e+07        5.756906          0.034530   \n",
       "0  8.028179e+07    8.034697e+07        5.499405          0.040428   \n",
       "\n",
       "   chromosome_chr11  chromosome_chr12  chromosome_chr13  chromosome_chr14  \\\n",
       "0          0.041451          0.044905          0.025907          0.022453   \n",
       "0          0.129032          0.096774          0.032258          0.000000   \n",
       "0          0.043127          0.040431          0.016173          0.056604   \n",
       "0          0.059392          0.064917          0.019337          0.033149   \n",
       "0          0.053508          0.063020          0.027348          0.027348   \n",
       "\n",
       "   chromosome_chr15  chromosome_chr16       ...        bases_G>T  bases_T>A  \\\n",
       "0          0.024180          0.015544       ...         0.367876   0.003454   \n",
       "0          0.064516          0.096774       ...         0.161290   0.129032   \n",
       "0          0.051213          0.018868       ...         0.353100   0.005391   \n",
       "0          0.037293          0.020718       ...         0.215470   0.008287   \n",
       "0          0.043995          0.016647       ...         0.306778   0.007134   \n",
       "\n",
       "   bases_T>C  bases_T>G  bases_first_C  bases_first_G  bases_first_T  \\\n",
       "0   0.005181   0.018998       0.493955       0.464594       0.027634   \n",
       "0   0.000000   0.064516       0.419355       0.290323       0.193548   \n",
       "0   0.005391   0.032345       0.485175       0.442049       0.043127   \n",
       "0   0.033149   0.001381       0.426796       0.495856       0.042818   \n",
       "0   0.008323   0.011891       0.500595       0.443520       0.027348   \n",
       "\n",
       "   bases_second_C  bases_second_G  bases_second_T  \n",
       "0        0.013817        0.020725        0.504318  \n",
       "0        0.064516        0.161290        0.419355  \n",
       "0        0.029650        0.037736        0.447439  \n",
       "0        0.037293        0.017956        0.494475  \n",
       "0        0.019025        0.026159        0.451843  \n",
       "\n",
       "[5 rows x 43 columns]"
      ]
     },
     "execution_count": 16,
     "metadata": {},
     "output_type": "execute_result"
    }
   ],
   "source": [
    "# Quick look at features in use\n",
    "cases.iloc[:5,:]"
   ]
  },
  {
   "cell_type": "markdown",
   "metadata": {},
   "source": [
    "#### b. Feature Creation - Quick visualization "
   ]
  },
  {
   "cell_type": "code",
   "execution_count": 17,
   "metadata": {},
   "outputs": [
    {
     "data": {
      "image/png": "[encoded data removed]",
      "text/plain": [
       "<matplotlib.figure.Figure at 0x1a14db4748>"
      ]
     },
     "metadata": {},
     "output_type": "display_data"
    },
    {
     "data": {
      "text/plain": [
       "<matplotlib.figure.Figure at 0x1a14db4518>"
      ]
     },
     "metadata": {},
     "output_type": "display_data"
    }
   ],
   "source": [
    "#Quick Feature Exploration - \n",
    "\n",
    "#Plot first two principal components of the data\n",
    "cases_scaled = preprocessing.scale(cases)\n",
    "\n",
    "pca = PCA(2)  \n",
    "projected = pca.fit_transform(cases_scaled)\n",
    "df0 = pd.DataFrame(dict(proj1=projected[:, 0], proj2=projected[:, 1], target=target))\n",
    "sns.lmplot( 'proj1', 'proj2', data=df0, hue='target', fit_reg=False)\n",
    "plt.figure(figsize=(20,30))\n",
    "plt.show()\n",
    "\n",
    "#Conclusion - not very informative, not very clustered"
   ]
  },
  {
   "cell_type": "code",
   "execution_count": 18,
   "metadata": {},
   "outputs": [
    {
     "data": {
      "text/html": [
       "<div>\n",
       "<style scoped>\n",
       "    .dataframe tbody tr th:only-of-type {\n",
       "        vertical-align: middle;\n",
       "    }\n",
       "\n",
       "    .dataframe tbody tr th {\n",
       "        vertical-align: top;\n",
       "    }\n",
       "\n",
       "    .dataframe thead th {\n",
       "        text-align: right;\n",
       "    }\n",
       "</style>\n",
       "<table border=\"1\" class=\"dataframe\">\n",
       "  <thead>\n",
       "    <tr style=\"text-align: right;\">\n",
       "      <th></th>\n",
       "      <th>val</th>\n",
       "    </tr>\n",
       "  </thead>\n",
       "  <tbody>\n",
       "    <tr>\n",
       "      <th>bases_first_T</th>\n",
       "      <td>0.433499</td>\n",
       "    </tr>\n",
       "    <tr>\n",
       "      <th>bases_first_G</th>\n",
       "      <td>0.405260</td>\n",
       "    </tr>\n",
       "    <tr>\n",
       "      <th>bases_second_G</th>\n",
       "      <td>0.360379</td>\n",
       "    </tr>\n",
       "    <tr>\n",
       "      <th>bases_G&gt;A</th>\n",
       "      <td>0.265150</td>\n",
       "    </tr>\n",
       "    <tr>\n",
       "      <th>bases_T&gt;A</th>\n",
       "      <td>0.262040</td>\n",
       "    </tr>\n",
       "  </tbody>\n",
       "</table>\n",
       "</div>"
      ],
      "text/plain": [
       "                     val\n",
       "bases_first_T   0.433499\n",
       "bases_first_G   0.405260\n",
       "bases_second_G  0.360379\n",
       "bases_G>A       0.265150\n",
       "bases_T>A       0.262040"
      ]
     },
     "execution_count": 18,
     "metadata": {},
     "output_type": "execute_result"
    }
   ],
   "source": [
    "# Closer look at the principal components\n",
    "\n",
    "priority = pd.DataFrame(pca.components_[1:2,:].T, cases.columns)\n",
    "priority.columns = pd.Series('val')\n",
    "priority = np.abs(priority)\n",
    "priority.sort_values(by='val', ascending=False).iloc[:5,:]\n",
    "\n",
    "#First principal component is dominated by base ordering: first chromosome comes is the 14th most important,\n",
    "#start position comes in at 16th most important\n",
    "#Second principal component is similar"
   ]
  },
  {
   "cell_type": "markdown",
   "metadata": {},
   "source": [
    "### III. Training Set, Testing Set"
   ]
  },
  {
   "cell_type": "code",
   "execution_count": 19,
   "metadata": {
    "collapsed": true
   },
   "outputs": [],
   "source": [
    "# Now for the aggregated data by case:\n",
    "\n",
    "# Split the data into training and test sets\n",
    "# Stratified sampling by label to ensure both the training and test sets contain a balanced \n",
    "# number of representatives of each of the labels\n",
    "X_train, X_test, y_train, y_test = train_test_split(cases, target, test_size=0.2, stratify=target, random_state=0)"
   ]
  },
  {
   "cell_type": "markdown",
   "metadata": {},
   "source": [
    "### IV. Building the Classifier"
   ]
  },
  {
   "cell_type": "code",
   "execution_count": 24,
   "metadata": {},
   "outputs": [],
   "source": [
    "# Apply random forest classification\n",
    "rf = RandomForestClassifier(n_estimators=100, oob_score=True, random_state=0)"
   ]
  },
  {
   "cell_type": "markdown",
   "metadata": {},
   "source": [
    "### V. Evaluating Classifier Performance"
   ]
  },
  {
   "cell_type": "code",
   "execution_count": 21,
   "metadata": {},
   "outputs": [
    {
     "data": {
      "text/plain": [
       "0.26978021978021977"
      ]
     },
     "execution_count": 21,
     "metadata": {},
     "output_type": "execute_result"
    }
   ],
   "source": [
    "# Print accuracy score for test set\n",
    "# Note: given the averaging of subsets throughout the rf process, no cv needed here\n",
    "rf_fit = rf.fit(X_train, y_train)\n",
    "predicted = rf.predict(X_test)\n",
    "accuracy = accuracy_score(y_test, predicted)\n",
    "accuracy"
   ]
  },
  {
   "cell_type": "code",
   "execution_count": null,
   "metadata": {},
   "outputs": [],
   "source": [
    "# Plot confusion matrix\n",
    "cm = pd.DataFrame(confusion_matrix(y_test, predicted), columns=np.unique(target), index=np.unique(target))\n",
    "sns.heatmap(cm/np.sum(np.sum(cm), axis=0), linewidth=0.1, cmap=\"YlGnBu\" )\n",
    "plt.show()\n",
    "plt.figure(figsize=(20,20))\n",
    "\n",
    "#Presentation is in percent of entire test population: \n",
    "# e.g., 8.6% of entire population was classifed correctly as Lung"
   ]
  },
  {
   "cell_type": "code",
   "execution_count": null,
   "metadata": {},
   "outputs": [],
   "source": [
    "# A random classifier would have this accuracy:\n",
    "1/26"
   ]
  },
  {
   "cell_type": "code",
   "execution_count": null,
   "metadata": {
    "scrolled": true
   },
   "outputs": [],
   "source": [
    "# Print feature importance in descending order\n",
    "features = pd.DataFrame(rf_fit.feature_importances_, cases.columns)\n",
    "features.columns = pd.Series('val')\n",
    "features.sort_values(by='val', ascending=False) #.iloc[:5,:]"
   ]
  }
 ],
 "metadata": {
  "kernelspec": {
   "display_name": "Python 3",
   "language": "python",
   "name": "python3"
  },
  "language_info": {
   "codemirror_mode": {
    "name": "ipython",
    "version": 3
   },
   "file_extension": ".py",
   "mimetype": "text/x-python",
   "name": "python",
   "nbconvert_exporter": "python",
   "pygments_lexer": "ipython3",
   "version": "3.6.3"
  }
 },
 "nbformat": 4,
 "nbformat_minor": 2
}
