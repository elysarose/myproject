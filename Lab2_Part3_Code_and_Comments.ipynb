{
 "cells": [
  {
   "cell_type": "markdown",
   "metadata": {},
   "source": [
    "## Lab 2, Part 3 - Code & Comments\n",
    "Elysa Strunin  \n",
    "October 2018  "
   ]
  },
  {
   "cell_type": "code",
   "execution_count": 1,
   "metadata": {
    "collapsed": true
   },
   "outputs": [],
   "source": [
    "import pandas as pd\n",
    "import numpy as np\n",
    "import seaborn as sns\n",
    "from pandas.io.json import json_normalize\n",
    "\n",
    "from sklearn.model_selection import cross_val_score\n",
    "from sklearn.ensemble import RandomForestClassifier\n",
    "from sklearn.model_selection import train_test_split\n",
    "from sklearn.metrics import accuracy_score, f1_score\n",
    "from sklearn.metrics import confusion_matrix\n",
    "from sklearn import preprocessing\n",
    "from sklearn.decomposition import PCA\n",
    "from sklearn.linear_model import LinearRegression\n",
    "from sklearn.metrics import mean_squared_error\n",
    "from sklearn.preprocessing import label_binarize\n",
    "from sklearn.metrics import roc_curve, auc\n",
    "from sklearn.pipeline import make_pipeline\n",
    "\n",
    "from scipy import stats\n",
    "\n",
    "import matplotlib\n",
    "import matplotlib.pyplot as plt"
   ]
  },
  {
   "cell_type": "markdown",
   "metadata": {},
   "source": [
    "### Data Preparation"
   ]
  },
  {
   "cell_type": "code",
   "execution_count": null,
   "metadata": {
    "collapsed": true
   },
   "outputs": [],
   "source": [
    "dose_response = pd.read_csv('v17_fitted_dose_response.csv')"
   ]
  },
  {
   "cell_type": "code",
   "execution_count": 10,
   "metadata": {
    "collapsed": true
   },
   "outputs": [],
   "source": [
    "uniques = pd.Series(dose_response['DRUG_ID'].unique())\n",
    "expr = pd.read_table('Cell_line_COSMIC_ID_gene_expression_transposed_clean.tsv', header=None)"
   ]
  },
  {
   "cell_type": "code",
   "execution_count": 11,
   "metadata": {
    "collapsed": true
   },
   "outputs": [],
   "source": [
    "header = pd.read_table('Cell_line_RMA_proc_basalExp_transposed.tsv', nrows = 2)\n",
    "more_info = header"
   ]
  },
  {
   "cell_type": "code",
   "execution_count": 12,
   "metadata": {
    "collapsed": true
   },
   "outputs": [],
   "source": [
    "expr.iloc[:,0] = expr.iloc[:,0].astype(int)\n",
    "expr.columns = header.columns\n",
    "expr = expr.rename(index=str, columns={\"GENE_SYMBOLS\": \"COSMIC_ID\"})"
   ]
  },
  {
   "cell_type": "markdown",
   "metadata": {},
   "source": [
    "### PCA & Linear Regression"
   ]
  },
  {
   "cell_type": "code",
   "execution_count": 14,
   "metadata": {
    "collapsed": true
   },
   "outputs": [],
   "source": [
    "rmse_all = []\n",
    "model_coef_all = []\n",
    "model_int_all = []\n",
    "pca_all = []\n",
    "means_all = []\n",
    "stdevs_all = []\n",
    "\n",
    "for drug in dose_response['DRUG_ID'].unique():\n",
    "    subset = dose_response[ dose_response['DRUG_ID']== drug ].loc[:,['COSMIC_ID','LN_IC50']] # 'AUC', 'RMSE' - remove auc, rmse if not filtering\n",
    "    expre = expr.merge(subset, on='COSMIC_ID', how='left', sort=False)\n",
    "\n",
    "    # remove the id's \n",
    "    expre = expre.iloc[:,1:]\n",
    "    expr_data = expre.copy() \n",
    "    expr_target = expre.loc[:,'LN_IC50'] #just testing one target here\n",
    "    del expr_data['LN_IC50']\n",
    "\n",
    "    # there will be a lot of na's in ic50. remove them.\n",
    "    mask = np.array(~expr_target.isnull())\n",
    "    expr_target = expr_target[mask]\n",
    "    expr_data = pd.DataFrame(expr_data)[mask]\n",
    "      \n",
    "    # CV k= 5\n",
    "    rmse_drug = []\n",
    "    model_coef_drug = []\n",
    "    model_int_drug = []\n",
    "    pca_drug = []\n",
    "    means_drug = []\n",
    "    stdevs_drug = []\n",
    "    \n",
    "    for i in np.arange(0,5) :\n",
    "        \n",
    "        train_data, test_data, train_target, test_target = train_test_split( expr_data, expr_target, test_size=0.2)\n",
    "        # rownames are cosmic ids\n",
    "        # colnames are gene expression\n",
    "\n",
    "        if train_data.shape[1] ==0 or test_data.shape[1] ==0 :\n",
    "            rmse_drug.append(np.nan)\n",
    "            \n",
    "        else:\n",
    "\n",
    "            # fit on training data only\n",
    "            scaled_train = preprocessing.scale(train_data)\n",
    "            scaled_test = preprocessing.scale(test_data)\n",
    "            \n",
    "            means_drug.append( train_data.apply(np.mean) )\n",
    "            stdevs_drug.append( train_data.apply(np.std) )\n",
    "            \n",
    "            if i==0:\n",
    "                pca = PCA(.90)\n",
    "                train_img = pca.fit_transform(scaled_train)\n",
    "                n_comp = pca.n_components_\n",
    "            \n",
    "            # this sets as constant the dimensions throughout a cv\n",
    "            else:\n",
    "                pca = PCA(n_comp)\n",
    "                train_img = pca.fit_transform(scaled_train)\n",
    "            \n",
    "            test_img = pca.transform(scaled_test)\n",
    "\n",
    "            train_target = np.ravel(train_target)\n",
    "\n",
    "            linRegr = LinearRegression()\n",
    "            linRegr.fit(train_img, train_target)\n",
    "\n",
    "            pred = linRegr.predict(test_img)\n",
    "\n",
    "            mask = np.array(~test_target.isnull())\n",
    "            test_targ = test_target[mask]\n",
    "            pred = pd.DataFrame(pred)[mask]\n",
    "\n",
    "            if test_targ.shape[0] ==0 or pred.shape[0] ==0 : \n",
    "                rmse_drug.append(np.nan)\n",
    "                model_coef_drug.append(np.nan)\n",
    "                model_int_drug.append(np.nan)\n",
    "                pca_drug.append(np.nan)\n",
    "  \n",
    "            else:        \n",
    "                rmse_drug.append( np.sqrt(mean_squared_error(test_targ, pred) ))\n",
    "                model_coef_drug.append(linRegr.coef_)\n",
    "                model_int_drug.append(linRegr.intercept_)\n",
    "                pca_drug.append(pca.components_)\n",
    "    \n",
    "    # There's a lot of averaging over cv folds that might not be the best approach - have to think about it more\n",
    "    rmse_all.append(np.mean(rmse_drug)) \n",
    "    model_coef_all.append(np.mean(model_coef_drug, axis=0)) \n",
    "    model_int_all.append(np.mean(model_int_drug, axis=0)) \n",
    "    pca_all.append(np.mean(pca_drug, axis=0)) \n",
    "    means_all.append(np.mean(means_drug, axis=0))\n",
    "    stdevs_all.append(np.mean(stdevs_drug, axis=0))\n"
   ]
  },
  {
   "cell_type": "markdown",
   "metadata": {},
   "source": [
    "### Model Comparisons (Output & RMSE)"
   ]
  },
  {
   "cell_type": "code",
   "execution_count": 170,
   "metadata": {
    "collapsed": true
   },
   "outputs": [],
   "source": [
    "# Write a function to predict LN_IC50 values per COSMIC_ID\n",
    "# and to compare them with experimental data\n",
    "\n",
    "def drugs_per_model(cosmic_id):\n",
    "    \n",
    "    ln_ic50 = []\n",
    "    \n",
    "    # subset the data\n",
    "    subset = dose_response[ dose_response['COSMIC_ID']== cosmic_id ].loc[:,['DRUG_ID','LN_IC50']] \n",
    "    expre =  expr[ expr['COSMIC_ID']== cosmic_id ]    \n",
    "\n",
    "    data = expre.iloc[0:1,1:]\n",
    "\n",
    "\n",
    "    for drug_id in uniques:\n",
    "\n",
    "        # get its index\n",
    "        i = uniques[uniques == drug_id].index[0]\n",
    "\n",
    "        # scaling\n",
    "        data0 = (data - means_all[i]) / stdevs_all[i] #confirm that vec div by vec is vec\n",
    "\n",
    "        # pca transformation\n",
    "        data0 = data0 @ pca_all[i].T\n",
    "\n",
    "        # prediction\n",
    "        val = np.sum(model_coef_all[i] * data0, axis=1) + model_int_all[i]\n",
    "        ln_ic50.append( val[0] )\n",
    "\n",
    "    ln_ic50 = pd.Series(ln_ic50)\n",
    "    \n",
    "    preds = pd.DataFrame({'model_preds': ln_ic50, 'DRUG_ID': pd.Series(uniques) } ) \n",
    "\n",
    "    comparison = preds.merge(subset, on='DRUG_ID', how='left', sort=False)\n",
    "    \n",
    "    comparison.index = comparison.loc[:, 'DRUG_ID']\n",
    "    \n",
    "    del comparison['DRUG_ID']\n",
    "    \n",
    "    return comparison"
   ]
  },
  {
   "cell_type": "code",
   "execution_count": 172,
   "metadata": {
    "collapsed": true
   },
   "outputs": [],
   "source": [
    "df = drugs_per_model(924100)"
   ]
  },
  {
   "cell_type": "code",
   "execution_count": 173,
   "metadata": {},
   "outputs": [
    {
     "data": {
      "text/html": [
       "<div>\n",
       "<style scoped>\n",
       "    .dataframe tbody tr th:only-of-type {\n",
       "        vertical-align: middle;\n",
       "    }\n",
       "\n",
       "    .dataframe tbody tr th {\n",
       "        vertical-align: top;\n",
       "    }\n",
       "\n",
       "    .dataframe thead th {\n",
       "        text-align: right;\n",
       "    }\n",
       "</style>\n",
       "<table border=\"1\" class=\"dataframe\">\n",
       "  <thead>\n",
       "    <tr style=\"text-align: right;\">\n",
       "      <th></th>\n",
       "      <th>model_preds</th>\n",
       "      <th>LN_IC50</th>\n",
       "    </tr>\n",
       "    <tr>\n",
       "      <th>DRUG_ID</th>\n",
       "      <th></th>\n",
       "      <th></th>\n",
       "    </tr>\n",
       "  </thead>\n",
       "  <tbody>\n",
       "    <tr>\n",
       "      <th>104</th>\n",
       "      <td>-4.981976</td>\n",
       "      <td>NaN</td>\n",
       "    </tr>\n",
       "    <tr>\n",
       "      <th>201</th>\n",
       "      <td>-4.695227</td>\n",
       "      <td>-4.94</td>\n",
       "    </tr>\n",
       "    <tr>\n",
       "      <th>1007</th>\n",
       "      <td>-4.570078</td>\n",
       "      <td>-5.70</td>\n",
       "    </tr>\n",
       "    <tr>\n",
       "      <th>140</th>\n",
       "      <td>-4.137135</td>\n",
       "      <td>-4.59</td>\n",
       "    </tr>\n",
       "    <tr>\n",
       "      <th>268</th>\n",
       "      <td>-3.707443</td>\n",
       "      <td>-5.18</td>\n",
       "    </tr>\n",
       "    <tr>\n",
       "      <th>1003</th>\n",
       "      <td>-3.572944</td>\n",
       "      <td>-4.73</td>\n",
       "    </tr>\n",
       "    <tr>\n",
       "      <th>1004</th>\n",
       "      <td>-3.507021</td>\n",
       "      <td>-4.37</td>\n",
       "    </tr>\n",
       "    <tr>\n",
       "      <th>1494</th>\n",
       "      <td>-3.487913</td>\n",
       "      <td>-4.75</td>\n",
       "    </tr>\n",
       "    <tr>\n",
       "      <th>1031</th>\n",
       "      <td>-3.116130</td>\n",
       "      <td>-4.33</td>\n",
       "    </tr>\n",
       "    <tr>\n",
       "      <th>283</th>\n",
       "      <td>-2.870295</td>\n",
       "      <td>-4.13</td>\n",
       "    </tr>\n",
       "  </tbody>\n",
       "</table>\n",
       "</div>"
      ],
      "text/plain": [
       "         model_preds  LN_IC50\n",
       "DRUG_ID                      \n",
       "104        -4.981976      NaN\n",
       "201        -4.695227    -4.94\n",
       "1007       -4.570078    -5.70\n",
       "140        -4.137135    -4.59\n",
       "268        -3.707443    -5.18\n",
       "1003       -3.572944    -4.73\n",
       "1004       -3.507021    -4.37\n",
       "1494       -3.487913    -4.75\n",
       "1031       -3.116130    -4.33\n",
       "283        -2.870295    -4.13"
      ]
     },
     "execution_count": 173,
     "metadata": {},
     "output_type": "execute_result"
    }
   ],
   "source": [
    "# Report the top ten drugs predicted to be sensitive for each cell line in order of best to worst\n",
    "# Lower LN_IC50 means more greater sensitivity\n",
    "\n",
    "# Compare this list for each cell line to the experimental data in the GDSC experimental results. \n",
    "\n",
    "df.sort_values('model_preds').head(10)"
   ]
  },
  {
   "cell_type": "code",
   "execution_count": 167,
   "metadata": {
    "collapsed": true
   },
   "outputs": [],
   "source": [
    "# drop na's to compare ranked lists\n",
    "\n",
    "df = df.dropna()"
   ]
  },
  {
   "cell_type": "markdown",
   "metadata": {},
   "source": [
    "### Model Evaluation"
   ]
  },
  {
   "cell_type": "code",
   "execution_count": 175,
   "metadata": {},
   "outputs": [
    {
     "data": {
      "text/plain": [
       "WilcoxonResult(statistic=9569.0, pvalue=0.0024758060061318464)"
      ]
     },
     "execution_count": 175,
     "metadata": {},
     "output_type": "execute_result"
    }
   ],
   "source": [
    "# Develop a score to compare rank ordered list of model predictions to the rank ordering of IC50 from GDSC\n",
    "\n",
    "# Approach 1:\n",
    "\n",
    "# Leverage the Wilcoxon signed-rank test to test the null hypothesis that two related paired samples \n",
    "# (model prediction and observation, per drug) come from the same distribution. \n",
    "# In particular, test whether the distribution of the differences\n",
    "# is symmetric about zero. \n",
    "\n",
    "# Result: p-value is sufficiently small to reject the null hypothesis\n",
    "# that the pairs come from the same distribution.\n",
    "\n",
    "stats.wilcoxon(x=np.ravel(df[['model_preds']]), y=np.ravel(df[['LN_IC50']]), zero_method='wilcox', correction=False)"
   ]
  },
  {
   "cell_type": "code",
   "execution_count": 207,
   "metadata": {
    "collapsed": true
   },
   "outputs": [],
   "source": [
    "# Approach 2:\n",
    "\n",
    "# But, we can imagine a scenario in which we reject the null for the above test\n",
    "# even when the drug lists are in exactly the same order (just very different IC50 values)\n",
    "\n",
    "# Here's more of a back-of-the-envelope test to answer the following question:\n",
    "# What percent of the 'top X' model predictions (or observations)\n",
    "# are in the 'top X' of observations (or model predictions)?\n",
    "\n",
    "# Obviously, the choice of X is arbitrary\n",
    "# And the test becomes less precise as X grows (because top X can be in any order)\n",
    "# There are ways to construct a more granular test,\n",
    "# or prioritize the bottom of the list instead of the top - \n",
    "# Could implement these (or look up better comparisons) in future\n"
   ]
  },
  {
   "cell_type": "code",
   "execution_count": 190,
   "metadata": {
    "collapsed": true
   },
   "outputs": [],
   "source": [
    "def general_similarity(top_number):\n",
    "    x = df.loc[:, 'model_preds'].sort_values()\n",
    "    model_preds_top = x.index[:top_number].values\n",
    "\n",
    "    y = df.loc[:, 'LN_IC50'].sort_values()\n",
    "    LN_IC50_top = y.index[:top_number].values\n",
    "\n",
    "    place = []\n",
    "    \n",
    "    for element in model_preds_top:\n",
    "        place.append(element in LN_IC50_top)\n",
    "        \n",
    "    return (np.sum(place) / len(place) )\n"
   ]
  },
  {
   "cell_type": "code",
   "execution_count": 206,
   "metadata": {},
   "outputs": [
    {
     "data": {
      "text/plain": [
       "0.88"
      ]
     },
     "execution_count": 206,
     "metadata": {},
     "output_type": "execute_result"
    }
   ],
   "source": [
    "# What percent of the 'top 25' model predictions (or observations)\n",
    "# are in the 'top 25' of observations (or model predictions)?\n",
    "general_similarity(25)"
   ]
  },
  {
   "cell_type": "code",
   "execution_count": 203,
   "metadata": {},
   "outputs": [
    {
     "data": {
      "text/plain": [
       "DRUG_ID\n",
       "201    -4.695227\n",
       "1007   -4.570078\n",
       "140    -4.137135\n",
       "268    -3.707443\n",
       "1003   -3.572944\n",
       "1004   -3.507021\n",
       "1494   -3.487913\n",
       "1031   -3.116130\n",
       "283    -2.870295\n",
       "180    -2.793550\n",
       "Name: model_preds, dtype: float64"
      ]
     },
     "execution_count": 203,
     "metadata": {},
     "output_type": "execute_result"
    }
   ],
   "source": [
    "df.loc[:, 'model_preds'].sort_values().head(10)"
   ]
  },
  {
   "cell_type": "code",
   "execution_count": 204,
   "metadata": {},
   "outputs": [
    {
     "data": {
      "text/plain": [
       "DRUG_ID\n",
       "1007   -5.70\n",
       "180    -5.42\n",
       "268    -5.18\n",
       "201    -4.94\n",
       "1494   -4.75\n",
       "1003   -4.73\n",
       "140    -4.59\n",
       "1004   -4.37\n",
       "1031   -4.33\n",
       "283    -4.13\n",
       "Name: LN_IC50, dtype: float64"
      ]
     },
     "execution_count": 204,
     "metadata": {},
     "output_type": "execute_result"
    }
   ],
   "source": [
    "df.loc[:, 'LN_IC50'].sort_values().head(10)"
   ]
  },
  {
   "cell_type": "code",
   "execution_count": 114,
   "metadata": {},
   "outputs": [
    {
     "data": {
      "text/plain": [
       "1262    0.453157\n",
       "150     0.481165\n",
       "266     0.505088\n",
       "1264    0.534266\n",
       "341     0.571337\n",
       "205     0.600437\n",
       "1502    0.604841\n",
       "312     0.606107\n",
       "91      0.620644\n",
       "193     0.670032\n",
       "dtype: float64"
      ]
     },
     "execution_count": 114,
     "metadata": {},
     "output_type": "execute_result"
    }
   ],
   "source": [
    "# Do the models check out with respect to RMSE?\n",
    "# They're ok - RMSE is a little higher here than in part 1\n",
    "\n",
    "rmse_all = pd.Series(rmse_all)\n",
    "rmse_all.index = dose_response['DRUG_ID'].unique()[:]\n",
    "rmse_all.sort_values().head(10)"
   ]
  },
  {
   "cell_type": "code",
   "execution_count": null,
   "metadata": {
    "collapsed": true
   },
   "outputs": [],
   "source": []
  },
  {
   "cell_type": "code",
   "execution_count": null,
   "metadata": {
    "collapsed": true
   },
   "outputs": [],
   "source": []
  },
  {
   "cell_type": "code",
   "execution_count": null,
   "metadata": {
    "collapsed": true
   },
   "outputs": [],
   "source": []
  },
  {
   "cell_type": "code",
   "execution_count": null,
   "metadata": {
    "collapsed": true
   },
   "outputs": [],
   "source": []
  },
  {
   "cell_type": "code",
   "execution_count": null,
   "metadata": {
    "collapsed": true
   },
   "outputs": [],
   "source": []
  },
  {
   "cell_type": "code",
   "execution_count": null,
   "metadata": {
    "collapsed": true
   },
   "outputs": [],
   "source": []
  },
  {
   "cell_type": "code",
   "execution_count": null,
   "metadata": {
    "collapsed": true
   },
   "outputs": [],
   "source": []
  },
  {
   "cell_type": "code",
   "execution_count": null,
   "metadata": {
    "collapsed": true
   },
   "outputs": [],
   "source": []
  },
  {
   "cell_type": "code",
   "execution_count": null,
   "metadata": {
    "collapsed": true
   },
   "outputs": [],
   "source": []
  },
  {
   "cell_type": "code",
   "execution_count": null,
   "metadata": {
    "collapsed": true
   },
   "outputs": [],
   "source": []
  }
 ],
 "metadata": {
  "kernelspec": {
   "display_name": "Python 3",
   "language": "python",
   "name": "python3"
  },
  "language_info": {
   "codemirror_mode": {
    "name": "ipython",
    "version": 3
   },
   "file_extension": ".py",
   "mimetype": "text/x-python",
   "name": "python",
   "nbconvert_exporter": "python",
   "pygments_lexer": "ipython3",
   "version": "3.6.3"
  }
 },
 "nbformat": 4,
 "nbformat_minor": 2
}
