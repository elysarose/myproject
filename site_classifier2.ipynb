{
 "cells": [
  {
   "cell_type": "code",
   "execution_count": 7,
   "metadata": {
    "collapsed": true
   },
   "outputs": [],
   "source": [
    "import json\n",
    "import pandas as pd\n",
    "import numpy as np\n",
    "from pandas.io.json import json_normalize\n",
    "\n",
    "from sklearn.model_selection import cross_val_score\n",
    "from sklearn.tree import DecisionTreeClassifier\n",
    "from sklearn.ensemble import RandomForestClassifier\n",
    "from sklearn.model_selection import train_test_split\n",
    "\n",
    "#from pybedtools import bedtools"
   ]
  },
  {
   "cell_type": "code",
   "execution_count": 8,
   "metadata": {
    "collapsed": true
   },
   "outputs": [],
   "source": [
    "#Each record is a JSON structure associated with a case, and contains: \n",
    "#the case number; the primary site; and the chromosome, \n",
    "#the start position, and the stop position of the mutation; and some additional information. "
   ]
  },
  {
   "cell_type": "code",
   "execution_count": 9,
   "metadata": {
    "collapsed": true
   },
   "outputs": [],
   "source": [
    "#The goal of this programming assignment is to write a classifier \n",
    "#that given some mutational information about a case predicts the primary site associated with the cancer."
   ]
  },
  {
   "cell_type": "code",
   "execution_count": null,
   "metadata": {
    "collapsed": true
   },
   "outputs": [],
   "source": []
  },
  {
   "cell_type": "code",
   "execution_count": 10,
   "metadata": {
    "collapsed": true
   },
   "outputs": [],
   "source": [
    "#To do:\n",
    "#separate training from testing\n",
    "#make sure the cv is stratified\n",
    "#consider a random forest instead( test)\n",
    "\n",
    "#idea: per case_id, create an average across starting_position, the chromosome one hots, and all base one hots\n",
    "\n"
   ]
  },
  {
   "cell_type": "code",
   "execution_count": null,
   "metadata": {
    "collapsed": true
   },
   "outputs": [],
   "source": []
  },
  {
   "cell_type": "code",
   "execution_count": null,
   "metadata": {
    "collapsed": true
   },
   "outputs": [],
   "source": []
  },
  {
   "cell_type": "code",
   "execution_count": null,
   "metadata": {
    "collapsed": true
   },
   "outputs": [],
   "source": []
  },
  {
   "cell_type": "code",
   "execution_count": null,
   "metadata": {
    "collapsed": true
   },
   "outputs": [],
   "source": []
  },
  {
   "cell_type": "code",
   "execution_count": 11,
   "metadata": {},
   "outputs": [],
   "source": [
    "#parse data with json package\n",
    "with open('out.json') as exampleData2:\n",
    "    parsedData2 = json.load(exampleData2)\n",
    "\n",
    "#create dictionary organized by observation (i.e., \"hit\")\n",
    "hitsDictionary = parsedData2[\"data\"][\"hits\"]\n",
    "\n",
    "#normalize the data into a dataframe\n",
    "df = pd.io.json.json_normalize(hitsDictionary)\n",
    "\n",
    "#modify column headings\n",
    "df.columns = df.columns.map(lambda x: x.split(\".\")[-1])\n",
    "\n"
   ]
  },
  {
   "cell_type": "code",
   "execution_count": null,
   "metadata": {
    "collapsed": true
   },
   "outputs": [],
   "source": []
  },
  {
   "cell_type": "code",
   "execution_count": null,
   "metadata": {
    "collapsed": true
   },
   "outputs": [],
   "source": []
  },
  {
   "cell_type": "code",
   "execution_count": 12,
   "metadata": {},
   "outputs": [],
   "source": [
    "#Data Cleaning:\n",
    "\n",
    "#under the assumption that only one distinct gene is cited in the \"consequence\" column,\n",
    "#extract gene name and place in new column\n",
    "def gene_extract(row):\n",
    "    entry = row['consequence']\n",
    "    entry_transform = entry[0][\"transcript\"][\"gene\"][\"symbol\"]\n",
    "    return entry_transform\n",
    "\n",
    "df['gene_symbol'] = df.apply (lambda row: gene_extract(row), axis=1)"
   ]
  },
  {
   "cell_type": "code",
   "execution_count": 13,
   "metadata": {
    "collapsed": true
   },
   "outputs": [],
   "source": [
    "#attribute creation:\n",
    "#count the number of times that the gene was cited in the \"consequence\" column,\n",
    "#in order to use it later as a measure of strength of gene expression (?)\n",
    "\n",
    "def gene_count(row):\n",
    "    entry = row['consequence']\n",
    "    entry_transform = len(entry)\n",
    "    return entry_transform\n",
    "\n",
    "df['gene_citations'] = df.apply (lambda row: gene_count(row), axis=1)"
   ]
  },
  {
   "cell_type": "code",
   "execution_count": 14,
   "metadata": {
    "collapsed": true
   },
   "outputs": [],
   "source": [
    "#delete the consequence column - no additional information here\n",
    "del df['consequence']"
   ]
  },
  {
   "cell_type": "code",
   "execution_count": null,
   "metadata": {
    "collapsed": true
   },
   "outputs": [],
   "source": []
  },
  {
   "cell_type": "code",
   "execution_count": null,
   "metadata": {
    "collapsed": true
   },
   "outputs": [],
   "source": []
  },
  {
   "cell_type": "code",
   "execution_count": 15,
   "metadata": {},
   "outputs": [
    {
     "name": "stdout",
     "output_type": "stream",
     "text": [
      "Mutation type:\n",
      "1\n",
      "Mutation subtype:\n",
      "1\n"
     ]
    }
   ],
   "source": [
    "#I can see that there is only one distinct mutation type and mutation subtype:\n",
    "#therefore delete those two columns:\n",
    "\n",
    "df_count5 = df[\"mutation_type\"].nunique()\n",
    "print(\"Mutation type:\")\n",
    "print(df_count5)\n",
    "\n",
    "df_count5 = df[\"mutation_subtype\"].nunique()\n",
    "print(\"Mutation subtype:\")\n",
    "print(df_count5)\n"
   ]
  },
  {
   "cell_type": "code",
   "execution_count": 16,
   "metadata": {
    "collapsed": true
   },
   "outputs": [],
   "source": [
    "del df['mutation_type']\n",
    "del df['mutation_subtype']"
   ]
  },
  {
   "cell_type": "code",
   "execution_count": null,
   "metadata": {
    "collapsed": true
   },
   "outputs": [],
   "source": []
  },
  {
   "cell_type": "code",
   "execution_count": 17,
   "metadata": {},
   "outputs": [
    {
     "name": "stdout",
     "output_type": "stream",
     "text": [
      "No repeat IDs?: True\n",
      "Number of primary cancer sites: 26\n",
      "Number of cases: 9097\n",
      "Number of projects: 33\n",
      "Number of chromosomes: 24\n",
      "Number of genes: 18177\n",
      "Number of start positions: 159995\n"
     ]
    }
   ],
   "source": [
    "#SANITY CHECKS:\n",
    "\n",
    "#check for repeats in \"id\" column\n",
    "df_count = df['id'].nunique()\n",
    "print(\"No repeat IDs?:\", df_count == df.shape[0])\n",
    "df_count2 = df['primary_site'].nunique()\n",
    "print(\"Number of primary cancer sites:\", df_count2)\n",
    "df_count3 = df['case_id'].nunique()\n",
    "print(\"Number of cases:\", df_count3)\n",
    "df_count4 = df['project_id'].nunique()\n",
    "print(\"Number of projects:\", df_count4)\n",
    "df_count5 = df[\"chromosome\"].nunique()\n",
    "print(\"Number of chromosomes:\", df_count5)\n",
    "df_count6 = df[\"gene_symbol\"].nunique()\n",
    "print(\"Number of genes:\", df_count6)\n",
    "df_count7 = df[\"start_position\"].nunique()\n",
    "print(\"Number of start positions:\", df_count7)\n",
    "\n"
   ]
  },
  {
   "cell_type": "code",
   "execution_count": 18,
   "metadata": {},
   "outputs": [
    {
     "data": {
      "text/plain": [
       "0"
      ]
     },
     "execution_count": 18,
     "metadata": {},
     "output_type": "execute_result"
    }
   ],
   "source": [
    "#delete id because meaningless\n",
    "del df['id']\n",
    "\n",
    "#is end ever different from start? No:\n",
    "np.sum(abs(df[\"end_position\"] - df[\"start_position\"]))"
   ]
  },
  {
   "cell_type": "code",
   "execution_count": 19,
   "metadata": {
    "collapsed": true
   },
   "outputs": [],
   "source": [
    "#therefore can delete one of them\n",
    "del df['end_position']"
   ]
  },
  {
   "cell_type": "code",
   "execution_count": null,
   "metadata": {
    "collapsed": true
   },
   "outputs": [],
   "source": []
  },
  {
   "cell_type": "code",
   "execution_count": 20,
   "metadata": {
    "collapsed": true
   },
   "outputs": [],
   "source": [
    "#Tested that the chromosome in genomic_dna_change always equals the given chromosome.\n",
    "\n",
    "#need to parse genomic_dna_change\n",
    "#Here I remove bases\n",
    "\n",
    "df['bases'] = df['genomic_dna_change'].str.slice(start=-3, stop=None, step=None)\n",
    "\n",
    "#Here I identify the base changes\n",
    "df['bases_first'] = df['bases'].str.slice(start=0, stop=1, step=None)\n",
    "df['bases_second'] = df['bases'].str.slice(start=2, stop=3, step=None)\n",
    "\n",
    "#note that the project_id is probably a label and relates to the primary_site label - cannot use as feature\n",
    "\n",
    "del df['project_id']"
   ]
  },
  {
   "cell_type": "code",
   "execution_count": 21,
   "metadata": {
    "collapsed": true
   },
   "outputs": [],
   "source": []
  },
  {
   "cell_type": "code",
   "execution_count": null,
   "metadata": {
    "collapsed": true
   },
   "outputs": [],
   "source": []
  },
  {
   "cell_type": "code",
   "execution_count": null,
   "metadata": {
    "collapsed": true
   },
   "outputs": [],
   "source": []
  },
  {
   "cell_type": "code",
   "execution_count": null,
   "metadata": {
    "collapsed": true
   },
   "outputs": [],
   "source": []
  },
  {
   "cell_type": "code",
   "execution_count": 22,
   "metadata": {},
   "outputs": [
    {
     "data": {
      "text/plain": [
       "{'Adrenal Gland': 809,\n",
       " 'Bile Duct': 211,\n",
       " 'Bladder': 9707,\n",
       " 'Bone Marrow': 536,\n",
       " 'Brain': 6999,\n",
       " 'Breast': 7381,\n",
       " 'Cervix': 5450,\n",
       " 'Colorectal': 19118,\n",
       " 'Esophagus': 1829,\n",
       " 'Eye': 90,\n",
       " 'Head and Neck': 6456,\n",
       " 'Kidney': 2759,\n",
       " 'Liver': 3030,\n",
       " 'Lung': 26823,\n",
       " 'Lymph Nodes': 413,\n",
       " 'Ovary': 3518,\n",
       " 'Pancreas': 1773,\n",
       " 'Pleura': 207,\n",
       " 'Prostate': 1465,\n",
       " 'Skin': 18067,\n",
       " 'Soft Tissue': 1098,\n",
       " 'Stomach': 8773,\n",
       " 'Testis': 163,\n",
       " 'Thymus': 179,\n",
       " 'Thyroid': 398,\n",
       " 'Uterus': 55720}"
      ]
     },
     "execution_count": 22,
     "metadata": {},
     "output_type": "execute_result"
    }
   ],
   "source": [
    "this = pd.Series(df.primary_site)\n",
    "unique, counts = np.unique(this, return_counts=True)\n",
    "dict(zip(unique, counts))"
   ]
  },
  {
   "cell_type": "code",
   "execution_count": 23,
   "metadata": {},
   "outputs": [
    {
     "data": {
      "text/plain": [
       "0.30452746868373304"
      ]
     },
     "execution_count": 23,
     "metadata": {},
     "output_type": "execute_result"
    }
   ],
   "source": [
    "55720/df.shape[0]"
   ]
  },
  {
   "cell_type": "code",
   "execution_count": 26,
   "metadata": {
    "collapsed": true
   },
   "outputs": [],
   "source": [
    "#features: chromosome, start_position, gene_symbol, gene_citations, bases, genomic_dna_change\n",
    "one_hot_chromosome = pd.get_dummies(df[['chromosome']], drop_first=True)\n",
    "one_hot_bases = pd.get_dummies(df[['bases', 'bases_first', 'bases_second']], drop_first=True)  \n",
    "data = pd.concat([df[[ 'start_position', 'gene_citations']], one_hot_chromosome, one_hot_bases], axis=1)\n",
    "#, , 'gene_symbol',  ]] #, 'genomic_dna_change']]\n",
    "\n",
    "\n",
    "target = np.ravel(np.array(df[['primary_site']]))\n",
    "#clf_fit = clf.fit(data, target)\n",
    "#cv = cross_val_score(clf, data, target, cv=10)\n",
    "\n",
    "\n",
    "#chromosome is not great\n",
    "#bases is helpful"
   ]
  },
  {
   "cell_type": "code",
   "execution_count": null,
   "metadata": {
    "collapsed": true
   },
   "outputs": [],
   "source": [
    "\n"
   ]
  },
  {
   "cell_type": "code",
   "execution_count": 27,
   "metadata": {},
   "outputs": [
    {
     "data": {
      "text/plain": [
       "array([0.21873293, 0.22291254, 0.22546944, 0.22543195, 0.22241956,\n",
       "       0.2283938 , 0.22625393, 0.22191088, 0.22210829, 0.21628829])"
      ]
     },
     "execution_count": 27,
     "metadata": {},
     "output_type": "execute_result"
    }
   ],
   "source": [
    "#Split the data into training and test sets. \n",
    "#stratified sampling by iris class to ensure both the training and test sets contain a balanced \n",
    "#number of representatives of each of the three classes.\n",
    "X_train, X_test, y_train, y_test = train_test_split(data, target, test_size=0.2, stratify=target, random_state=0)\n",
    "\n",
    "\n",
    "\n",
    "\n",
    "\n",
    "clf = DecisionTreeClassifier(random_state=0)\n",
    "\n",
    "#df['genecitations']=df['genecitations'].astype(float)\n",
    "\n",
    "\n",
    "\n",
    "\n",
    "target = np.ravel(np.array(df[['primary_site']]))\n",
    "#clf_fit = clf.fit(data, target)\n",
    "#cv = cross_val_score(clf, data, target, cv=10)\n",
    "\n",
    "\n",
    "rf = RandomForestClassifier() #(n_estimators=100, oob_score=True, random_state=123456)\n",
    "\n",
    "#need stratification here also:\n",
    "cv = cross_val_score(rf, X_train, y_train, cv=10)\n",
    "#Consider using StratifiedKFold to preserve original data balance\n",
    "cv"
   ]
  },
  {
   "cell_type": "code",
   "execution_count": null,
   "metadata": {
    "collapsed": true
   },
   "outputs": [],
   "source": []
  },
  {
   "cell_type": "code",
   "execution_count": null,
   "metadata": {
    "collapsed": true
   },
   "outputs": [],
   "source": []
  },
  {
   "cell_type": "code",
   "execution_count": null,
   "metadata": {
    "collapsed": true
   },
   "outputs": [],
   "source": []
  },
  {
   "cell_type": "code",
   "execution_count": 28,
   "metadata": {},
   "outputs": [
    {
     "data": {
      "text/plain": [
       "0.22299216140283168"
      ]
     },
     "execution_count": 28,
     "metadata": {},
     "output_type": "execute_result"
    }
   ],
   "source": [
    "np.mean(cv) #21.76 is with decisiontree, 22.63 is with the above randomforest\n"
   ]
  },
  {
   "cell_type": "code",
   "execution_count": null,
   "metadata": {},
   "outputs": [],
   "source": []
  },
  {
   "cell_type": "code",
   "execution_count": null,
   "metadata": {},
   "outputs": [],
   "source": []
  },
  {
   "cell_type": "code",
   "execution_count": 64,
   "metadata": {},
   "outputs": [],
   "source": [
    "#aggregate the various mutations and associated genes for each case\n",
    "#then determine whether the algorithm needs to be multiclass (one class per case) or multilabel (up to several)\n",
    "\n",
    "#by case:\n",
    "\n",
    "#initialize\n",
    "\n",
    "data2 = pd.concat([df[[ 'case_id', 'primary_site']], data], axis=1)\n",
    "\n",
    "cases = pd.DataFrame(0, index=[0], columns=data.columns)\n",
    "\n",
    "target = []\n",
    "\n",
    "for n in df['case_id'].unique():\n",
    "    new_case = pd.DataFrame(data2[data2['case_id']== n ])\n",
    "    \n",
    "    new_primary_site = np.array(new_case.primary_site)[0]\n",
    "    target.append(new_primary_site)\n",
    "\n",
    "    del new_case['case_id']\n",
    "    del new_case['primary_site']\n",
    "\n",
    "    new_mat = pd.DataFrame(new_case.mean(axis=0)).T #average across the one-hots, or median across the one-hots\n",
    "    cases = cases.append(new_mat)\n",
    "\n",
    "cases = cases.iloc[1:] "
   ]
  },
  {
   "cell_type": "code",
   "execution_count": null,
   "metadata": {},
   "outputs": [],
   "source": []
  },
  {
   "cell_type": "code",
   "execution_count": null,
   "metadata": {
    "collapsed": true
   },
   "outputs": [],
   "source": []
  },
  {
   "cell_type": "code",
   "execution_count": 69,
   "metadata": {},
   "outputs": [
    {
     "data": {
      "text/plain": [
       "0.26228757537291447"
      ]
     },
     "execution_count": 69,
     "metadata": {},
     "output_type": "execute_result"
    }
   ],
   "source": [
    "#Now for the aggregated data;\n",
    "\n",
    "#Split the data into training and test sets. \n",
    "#stratified sampling by iris class to ensure both the training and test sets contain a balanced \n",
    "#number of representatives of each of the three classes.\n",
    "X_train, X_test, y_train, y_test = train_test_split(cases, target, test_size=0.2, stratify=target, random_state=0)\n",
    "\n",
    "\n",
    "\n",
    "\n",
    "\n",
    "\n",
    "#df['genecitations']=df['genecitations'].astype(float)\n",
    "\n",
    "\n",
    "rf = RandomForestClassifier(n_estimators=100) #(n_estimators=100, oob_score=True, random_state=123456)\n",
    "\n",
    "#need stratification here also:\n",
    "cv = cross_val_score(rf, X_train, y_train, cv=10)\n",
    "#Consider using StratifiedKFold to preserve original data balance\n",
    "np.mean(cv)\n",
    "\n",
    "\n",
    "\n",
    "\n",
    "\n"
   ]
  },
  {
   "cell_type": "code",
   "execution_count": 67,
   "metadata": {},
   "outputs": [
    {
     "data": {
      "text/plain": [
       "0.2653846153846154"
      ]
     },
     "execution_count": 67,
     "metadata": {},
     "output_type": "execute_result"
    }
   ],
   "source": [
    "from sklearn.metrics import accuracy_score\n",
    "\n",
    "rf.fit(X_train, y_train)\n",
    "\n",
    "predicted = rf.predict(X_test)\n",
    "accuracy = accuracy_score(y_test, predicted)\n",
    "accuracy"
   ]
  },
  {
   "cell_type": "code",
   "execution_count": null,
   "metadata": {
    "collapsed": true
   },
   "outputs": [],
   "source": []
  },
  {
   "cell_type": "code",
   "execution_count": null,
   "metadata": {
    "collapsed": true
   },
   "outputs": [],
   "source": [
    "import matplotlib.pyplot as plt\n",
    "import seaborn as sns\n",
    "from sklearn.metrics import confusion_matrix\n",
    "cm = pd.DataFrame(confusion_matrix(y_test, predicted), columns=np.unique(target), index=np.unique(target))"
   ]
  },
  {
   "cell_type": "code",
   "execution_count": null,
   "metadata": {},
   "outputs": [],
   "source": []
  },
  {
   "cell_type": "code",
   "execution_count": null,
   "metadata": {},
   "outputs": [],
   "source": [
    "#plt.imshow(cm, cmap='cool')\n",
    "\n",
    "sns.heatmap(cm, linewidth=0.1, cmap=\"YlGnBu\" )\n",
    "\n",
    "plt.show()\n",
    "plt.figure(figsize=(20,15))\n"
   ]
  },
  {
   "cell_type": "code",
   "execution_count": 463,
   "metadata": {
    "scrolled": true
   },
   "outputs": [
    {
     "ename": "NameError",
     "evalue": "name 'rf_fit' is not defined",
     "output_type": "error",
     "traceback": [
      "\u001b[0;31m---------------------------------------------------------------------------\u001b[0m",
      "\u001b[0;31mNameError\u001b[0m                                 Traceback (most recent call last)",
      "\u001b[0;32m<ipython-input-463-b6fec53a994c>\u001b[0m in \u001b[0;36m<module>\u001b[0;34m()\u001b[0m\n\u001b[1;32m      1\u001b[0m \u001b[0;31m#which features are most important\u001b[0m\u001b[0;34m\u001b[0m\u001b[0;34m\u001b[0m\u001b[0m\n\u001b[0;32m----> 2\u001b[0;31m \u001b[0mfeatures\u001b[0m \u001b[0;34m=\u001b[0m \u001b[0mpd\u001b[0m\u001b[0;34m.\u001b[0m\u001b[0mDataFrame\u001b[0m\u001b[0;34m(\u001b[0m\u001b[0mrf_fit\u001b[0m\u001b[0;34m.\u001b[0m\u001b[0mfeature_importances_\u001b[0m\u001b[0;34m,\u001b[0m \u001b[0mdata\u001b[0m\u001b[0;34m.\u001b[0m\u001b[0mcolumns\u001b[0m\u001b[0;34m)\u001b[0m\u001b[0;34m\u001b[0m\u001b[0m\n\u001b[0m\u001b[1;32m      3\u001b[0m \u001b[0mfeatures\u001b[0m\u001b[0;34m.\u001b[0m\u001b[0mcolumns\u001b[0m \u001b[0;34m=\u001b[0m \u001b[0mpd\u001b[0m\u001b[0;34m.\u001b[0m\u001b[0mSeries\u001b[0m\u001b[0;34m(\u001b[0m\u001b[0;34m'val'\u001b[0m\u001b[0;34m)\u001b[0m\u001b[0;34m\u001b[0m\u001b[0m\n\u001b[1;32m      4\u001b[0m \u001b[0mfeatures\u001b[0m\u001b[0;34m\u001b[0m\u001b[0m\n\u001b[1;32m      5\u001b[0m \u001b[0mfeatures\u001b[0m\u001b[0;34m.\u001b[0m\u001b[0msort_values\u001b[0m\u001b[0;34m(\u001b[0m\u001b[0mby\u001b[0m\u001b[0;34m=\u001b[0m\u001b[0;34m'val'\u001b[0m\u001b[0;34m,\u001b[0m \u001b[0mascending\u001b[0m\u001b[0;34m=\u001b[0m\u001b[0;32mFalse\u001b[0m\u001b[0;34m)\u001b[0m\u001b[0;34m\u001b[0m\u001b[0m\n",
      "\u001b[0;31mNameError\u001b[0m: name 'rf_fit' is not defined"
     ]
    }
   ],
   "source": [
    "#which features are most important\n",
    "features = pd.DataFrame(rf_fit.feature_importances_, data.columns)\n",
    "features.columns = pd.Series('val')\n",
    "features\n",
    "features.sort_values(by='val', ascending=False)"
   ]
  },
  {
   "cell_type": "code",
   "execution_count": null,
   "metadata": {
    "collapsed": true
   },
   "outputs": [],
   "source": []
  },
  {
   "cell_type": "code",
   "execution_count": 183,
   "metadata": {
    "collapsed": true
   },
   "outputs": [],
   "source": []
  },
  {
   "cell_type": "code",
   "execution_count": 189,
   "metadata": {},
   "outputs": [
    {
     "data": {
      "text/plain": [
       "{'Adrenal Gland': 904,\n",
       " 'Bile Duct': 235,\n",
       " 'Bladder': 10971,\n",
       " 'Bone Marrow': 613,\n",
       " 'Brain': 8106,\n",
       " 'Breast': 8077,\n",
       " 'Cervix': 5908,\n",
       " 'Colorectal': 21236,\n",
       " 'Esophagus': 1844,\n",
       " 'Eye': 89,\n",
       " 'Head and Neck': 6710,\n",
       " 'Kidney': 2798,\n",
       " 'Liver': 3061,\n",
       " 'Lung': 26840,\n",
       " 'Lymph Nodes': 389,\n",
       " 'Ovary': 3374,\n",
       " 'Pancreas': 1654,\n",
       " 'Pleura': 184,\n",
       " 'Prostate': 1400,\n",
       " 'Skin': 17524,\n",
       " 'Soft Tissue': 976,\n",
       " 'Stomach': 8015,\n",
       " 'Testis': 153,\n",
       " 'Thymus': 175,\n",
       " 'Thyroid': 350,\n",
       " 'Uterus': 51386}"
      ]
     },
     "execution_count": 189,
     "metadata": {},
     "output_type": "execute_result"
    }
   ],
   "source": [
    "clf = clf.fit(data, target)\n",
    "\n",
    "pred = clf.predict(data)\n",
    "ser = pd.Series(pred)\n",
    "unique, counts = np.unique(ser, return_counts=True)\n",
    "dict(zip(unique, counts))"
   ]
  },
  {
   "cell_type": "code",
   "execution_count": 200,
   "metadata": {},
   "outputs": [
    {
     "data": {
      "text/plain": [
       "0.28084078438230986"
      ]
     },
     "execution_count": 200,
     "metadata": {},
     "output_type": "execute_result"
    }
   ],
   "source": [
    "51386/df.shape[0]\n"
   ]
  },
  {
   "cell_type": "code",
   "execution_count": null,
   "metadata": {
    "collapsed": true
   },
   "outputs": [],
   "source": []
  },
  {
   "cell_type": "code",
   "execution_count": 148,
   "metadata": {
    "collapsed": true
   },
   "outputs": [],
   "source": [
    "#initialize\n",
    "counts = pd.DataFrame(index=df['primary_site'].unique(),columns=['count'])\n",
    "\n",
    "for i in df['primary_site'].unique():\n",
    "    counts.loc[i, 'count'] = np.sum(df['primary_site'] == i)"
   ]
  },
  {
   "cell_type": "code",
   "execution_count": 164,
   "metadata": {},
   "outputs": [
    {
     "data": {
      "text/plain": [
       "0.30452746868373304"
      ]
     },
     "execution_count": 164,
     "metadata": {},
     "output_type": "execute_result"
    }
   ],
   "source": [
    "55720/np.sum(counts['count'])"
   ]
  },
  {
   "cell_type": "code",
   "execution_count": 159,
   "metadata": {},
   "outputs": [
    {
     "data": {
      "text/html": [
       "<div>\n",
       "<style scoped>\n",
       "    .dataframe tbody tr th:only-of-type {\n",
       "        vertical-align: middle;\n",
       "    }\n",
       "\n",
       "    .dataframe tbody tr th {\n",
       "        vertical-align: top;\n",
       "    }\n",
       "\n",
       "    .dataframe thead th {\n",
       "        text-align: right;\n",
       "    }\n",
       "</style>\n",
       "<table border=\"1\" class=\"dataframe\">\n",
       "  <thead>\n",
       "    <tr style=\"text-align: right;\">\n",
       "      <th></th>\n",
       "      <th>count</th>\n",
       "    </tr>\n",
       "  </thead>\n",
       "  <tbody>\n",
       "    <tr>\n",
       "      <th>Uterus</th>\n",
       "      <td>55720</td>\n",
       "    </tr>\n",
       "    <tr>\n",
       "      <th>Brain</th>\n",
       "      <td>6999</td>\n",
       "    </tr>\n",
       "    <tr>\n",
       "      <th>Colorectal</th>\n",
       "      <td>19118</td>\n",
       "    </tr>\n",
       "    <tr>\n",
       "      <th>Cervix</th>\n",
       "      <td>5450</td>\n",
       "    </tr>\n",
       "    <tr>\n",
       "      <th>Soft Tissue</th>\n",
       "      <td>1098</td>\n",
       "    </tr>\n",
       "    <tr>\n",
       "      <th>Liver</th>\n",
       "      <td>3030</td>\n",
       "    </tr>\n",
       "    <tr>\n",
       "      <th>Prostate</th>\n",
       "      <td>1465</td>\n",
       "    </tr>\n",
       "    <tr>\n",
       "      <th>Breast</th>\n",
       "      <td>7381</td>\n",
       "    </tr>\n",
       "    <tr>\n",
       "      <th>Skin</th>\n",
       "      <td>18067</td>\n",
       "    </tr>\n",
       "    <tr>\n",
       "      <th>Kidney</th>\n",
       "      <td>2759</td>\n",
       "    </tr>\n",
       "    <tr>\n",
       "      <th>Lung</th>\n",
       "      <td>26823</td>\n",
       "    </tr>\n",
       "    <tr>\n",
       "      <th>Bladder</th>\n",
       "      <td>9707</td>\n",
       "    </tr>\n",
       "    <tr>\n",
       "      <th>Stomach</th>\n",
       "      <td>8773</td>\n",
       "    </tr>\n",
       "    <tr>\n",
       "      <th>Head and Neck</th>\n",
       "      <td>6456</td>\n",
       "    </tr>\n",
       "    <tr>\n",
       "      <th>Lymph Nodes</th>\n",
       "      <td>413</td>\n",
       "    </tr>\n",
       "    <tr>\n",
       "      <th>Esophagus</th>\n",
       "      <td>1829</td>\n",
       "    </tr>\n",
       "    <tr>\n",
       "      <th>Ovary</th>\n",
       "      <td>3518</td>\n",
       "    </tr>\n",
       "    <tr>\n",
       "      <th>Pancreas</th>\n",
       "      <td>1773</td>\n",
       "    </tr>\n",
       "    <tr>\n",
       "      <th>Adrenal Gland</th>\n",
       "      <td>809</td>\n",
       "    </tr>\n",
       "    <tr>\n",
       "      <th>Eye</th>\n",
       "      <td>90</td>\n",
       "    </tr>\n",
       "    <tr>\n",
       "      <th>Testis</th>\n",
       "      <td>163</td>\n",
       "    </tr>\n",
       "    <tr>\n",
       "      <th>Bone Marrow</th>\n",
       "      <td>536</td>\n",
       "    </tr>\n",
       "    <tr>\n",
       "      <th>Pleura</th>\n",
       "      <td>207</td>\n",
       "    </tr>\n",
       "    <tr>\n",
       "      <th>Thyroid</th>\n",
       "      <td>398</td>\n",
       "    </tr>\n",
       "    <tr>\n",
       "      <th>Bile Duct</th>\n",
       "      <td>211</td>\n",
       "    </tr>\n",
       "    <tr>\n",
       "      <th>Thymus</th>\n",
       "      <td>179</td>\n",
       "    </tr>\n",
       "  </tbody>\n",
       "</table>\n",
       "</div>"
      ],
      "text/plain": [
       "               count\n",
       "Uterus         55720\n",
       "Brain           6999\n",
       "Colorectal     19118\n",
       "Cervix          5450\n",
       "Soft Tissue     1098\n",
       "Liver           3030\n",
       "Prostate        1465\n",
       "Breast          7381\n",
       "Skin           18067\n",
       "Kidney          2759\n",
       "Lung           26823\n",
       "Bladder         9707\n",
       "Stomach         8773\n",
       "Head and Neck   6456\n",
       "Lymph Nodes      413\n",
       "Esophagus       1829\n",
       "Ovary           3518\n",
       "Pancreas        1773\n",
       "Adrenal Gland    809\n",
       "Eye               90\n",
       "Testis           163\n",
       "Bone Marrow      536\n",
       "Pleura           207\n",
       "Thyroid          398\n",
       "Bile Duct        211\n",
       "Thymus           179"
      ]
     },
     "execution_count": 159,
     "metadata": {},
     "output_type": "execute_result"
    }
   ],
   "source": [
    "np.sum(counts) == df.shape[0]\n",
    "counts"
   ]
  },
  {
   "cell_type": "code",
   "execution_count": null,
   "metadata": {
    "collapsed": true
   },
   "outputs": [],
   "source": []
  },
  {
   "cell_type": "code",
   "execution_count": 70,
   "metadata": {},
   "outputs": [
    {
     "data": {
      "text/plain": [
       "0.30955555555555553"
      ]
     },
     "execution_count": 70,
     "metadata": {},
     "output_type": "execute_result"
    }
   ],
   "source": [
    "np.sum(df['primary_site'] == 'Uterus')\n"
   ]
  },
  {
   "cell_type": "code",
   "execution_count": null,
   "metadata": {
    "collapsed": true
   },
   "outputs": [],
   "source": []
  },
  {
   "cell_type": "code",
   "execution_count": 156,
   "metadata": {},
   "outputs": [
    {
     "data": {
      "text/plain": [
       "0.038461538461538464"
      ]
     },
     "execution_count": 156,
     "metadata": {},
     "output_type": "execute_result"
    }
   ],
   "source": [
    "#a random classifier would have this accuracy:\n",
    "1/26\n"
   ]
  },
  {
   "cell_type": "code",
   "execution_count": null,
   "metadata": {
    "collapsed": true
   },
   "outputs": [],
   "source": []
  },
  {
   "cell_type": "code",
   "execution_count": null,
   "metadata": {
    "collapsed": true
   },
   "outputs": [],
   "source": []
  },
  {
   "cell_type": "code",
   "execution_count": null,
   "metadata": {
    "collapsed": true
   },
   "outputs": [],
   "source": []
  },
  {
   "cell_type": "code",
   "execution_count": null,
   "metadata": {
    "collapsed": true
   },
   "outputs": [],
   "source": []
  },
  {
   "cell_type": "code",
   "execution_count": null,
   "metadata": {
    "collapsed": true
   },
   "outputs": [],
   "source": [
    "\n"
   ]
  },
  {
   "cell_type": "code",
   "execution_count": null,
   "metadata": {
    "collapsed": true
   },
   "outputs": [],
   "source": []
  }
 ],
 "metadata": {
  "kernelspec": {
   "display_name": "Python 3",
   "language": "python",
   "name": "python3"
  },
  "language_info": {
   "codemirror_mode": {
    "name": "ipython",
    "version": 3
   },
   "file_extension": ".py",
   "mimetype": "text/x-python",
   "name": "python",
   "nbconvert_exporter": "python",
   "pygments_lexer": "ipython3",
   "version": "3.6.3"
  }
 },
 "nbformat": 4,
 "nbformat_minor": 2
}
