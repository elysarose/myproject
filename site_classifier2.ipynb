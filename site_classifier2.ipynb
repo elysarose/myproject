{
 "cells": [
  {
   "cell_type": "code",
   "execution_count": 1,
   "metadata": {
    "collapsed": true
   },
   "outputs": [],
   "source": [
    "import json\n",
    "import pandas as pd\n",
    "import numpy as np\n",
    "import seaborn as sns\n",
    "from pandas.io.json import json_normalize\n",
    "\n",
    "from sklearn.model_selection import cross_val_score\n",
    "from sklearn.tree import DecisionTreeClassifier\n",
    "from sklearn.ensemble import RandomForestClassifier\n",
    "from sklearn.model_selection import train_test_split\n",
    "from pybedtools import BedTool"
   ]
  },
  {
   "cell_type": "code",
   "execution_count": null,
   "metadata": {
    "collapsed": true
   },
   "outputs": [],
   "source": []
  },
  {
   "cell_type": "code",
   "execution_count": null,
   "metadata": {
    "collapsed": true
   },
   "outputs": [],
   "source": []
  },
  {
   "cell_type": "code",
   "execution_count": 4,
   "metadata": {
    "collapsed": true
   },
   "outputs": [],
   "source": [
    "#To do:\n",
    "#separate training from testing\n",
    "#make sure the cv is stratified\n",
    "#consider a random forest instead( test)\n",
    "\n",
    "#idea: per case_id, create an average across starting_position, the chromosome one hots, and all base one hots"
   ]
  },
  {
   "cell_type": "code",
   "execution_count": 5,
   "metadata": {},
   "outputs": [],
   "source": [
    "#parse data with json package\n",
    "with open('out.json') as exampleData2:\n",
    "    parsedData2 = json.load(exampleData2)\n",
    "\n",
    "#create dictionary organized by observation (i.e., \"hit\")\n",
    "hitsDictionary = parsedData2[\"data\"][\"hits\"]\n",
    "\n",
    "#normalize the data into a dataframe\n",
    "df = pd.io.json.json_normalize(hitsDictionary)\n",
    "\n",
    "#modify column headings\n",
    "df.columns = df.columns.map(lambda x: x.split(\".\")[-1])"
   ]
  },
  {
   "cell_type": "code",
   "execution_count": 6,
   "metadata": {
    "collapsed": true
   },
   "outputs": [],
   "source": [
    "#Data Cleaning:\n",
    "\n",
    "#under the assumption that only one distinct gene is cited in the \"consequence\" column,\n",
    "#extract gene name and place in new column\n",
    "def gene_extract(row):\n",
    "    entry = row['consequence']\n",
    "    entry_transform = entry[0][\"transcript\"][\"gene\"][\"symbol\"]\n",
    "    return entry_transform\n",
    "\n",
    "df['gene_symbol'] = df.apply (lambda row: gene_extract(row), axis=1)"
   ]
  },
  {
   "cell_type": "code",
   "execution_count": 7,
   "metadata": {
    "collapsed": true
   },
   "outputs": [],
   "source": [
    "#attribute creation:\n",
    "#count the number of times that the gene was cited in the \"consequence\" column,\n",
    "#in order to use it later as a measure of strength of gene expression (?)\n",
    "\n",
    "def gene_count(row):\n",
    "    entry = row['consequence']\n",
    "    entry_transform = len(entry)\n",
    "    return entry_transform\n",
    "\n",
    "df['gene_citations'] = df.apply (lambda row: gene_count(row), axis=1)"
   ]
  },
  {
   "cell_type": "code",
   "execution_count": 8,
   "metadata": {
    "collapsed": true
   },
   "outputs": [],
   "source": [
    "#delete the consequence column - no additional information here\n",
    "del df['consequence']"
   ]
  },
  {
   "cell_type": "code",
   "execution_count": 9,
   "metadata": {},
   "outputs": [],
   "source": [
    "#I can see that there is only one distinct mutation type and mutation subtype:\n",
    "#therefore delete those two columns:\n",
    "\n",
    "del df['mutation_type']\n",
    "del df['mutation_subtype']"
   ]
  },
  {
   "cell_type": "code",
   "execution_count": 10,
   "metadata": {},
   "outputs": [
    {
     "name": "stdout",
     "output_type": "stream",
     "text": [
      "No repeat IDs?: True\n",
      "Number of primary cancer sites: 26\n",
      "Number of cases: 9097\n",
      "Number of projects: 33\n",
      "Number of chromosomes: 24\n",
      "Number of genes: 18177\n",
      "Number of start positions: 159995\n"
     ]
    }
   ],
   "source": [
    "#SANITY CHECKS:\n",
    "\n",
    "#check for repeats in \"id\" column\n",
    "df_count = df['id'].nunique()\n",
    "print(\"No repeat IDs?:\", df_count == df.shape[0])\n",
    "df_count2 = df['primary_site'].nunique()\n",
    "print(\"Number of primary cancer sites:\", df_count2)\n",
    "df_count3 = df['case_id'].nunique()\n",
    "print(\"Number of cases:\", df_count3)\n",
    "df_count4 = df['project_id'].nunique()\n",
    "print(\"Number of projects:\", df_count4)\n",
    "df_count5 = df[\"chromosome\"].nunique()\n",
    "print(\"Number of chromosomes:\", df_count5)\n",
    "df_count6 = df[\"gene_symbol\"].nunique()\n",
    "print(\"Number of genes:\", df_count6)\n",
    "df_count7 = df[\"start_position\"].nunique()\n",
    "print(\"Number of start positions:\", df_count7)"
   ]
  },
  {
   "cell_type": "code",
   "execution_count": 11,
   "metadata": {},
   "outputs": [],
   "source": [
    "#delete id because meaningless\n",
    "del df['id']\n",
    "\n",
    "#end position never differs from start position (checked), therefore can delete one\n",
    "del df['end_position']"
   ]
  },
  {
   "cell_type": "code",
   "execution_count": 12,
   "metadata": {
    "collapsed": true
   },
   "outputs": [],
   "source": [
    "#Tested that the chromosome in genomic_dna_change always equals the given chromosome.\n",
    "\n",
    "#need to parse genomic_dna_change\n",
    "#Here I remove bases\n",
    "\n",
    "df['bases'] = df['genomic_dna_change'].str.slice(start=-3, stop=None, step=None)\n",
    "\n",
    "#Here I identify the base changes\n",
    "df['bases_first'] = df['bases'].str.slice(start=0, stop=1, step=None)\n",
    "df['bases_second'] = df['bases'].str.slice(start=2, stop=3, step=None)\n",
    "\n",
    "#note that the project_id is probably a label and relates to the primary_site label - cannot use as feature\n",
    "\n",
    "del df['project_id']"
   ]
  },
  {
   "cell_type": "code",
   "execution_count": null,
   "metadata": {},
   "outputs": [],
   "source": []
  },
  {
   "cell_type": "code",
   "execution_count": 13,
   "metadata": {
    "collapsed": true
   },
   "outputs": [],
   "source": [
    "#features: chromosome, start_position, gene_symbol, gene_citations, bases, genomic_dna_change\n",
    "one_hot_chromosome = pd.get_dummies(df[['chromosome']], drop_first=True)\n",
    "one_hot_bases = pd.get_dummies(df[['bases', 'bases_first', 'bases_second']], drop_first=True)  \n",
    "data = pd.concat([df[[ 'start_position', 'gene_citations']], one_hot_chromosome, one_hot_bases], axis=1)\n",
    "\n",
    "target = np.ravel(np.array(df[['primary_site']]))"
   ]
  },
  {
   "cell_type": "code",
   "execution_count": null,
   "metadata": {
    "collapsed": true
   },
   "outputs": [],
   "source": [
    "\n"
   ]
  },
  {
   "cell_type": "code",
   "execution_count": null,
   "metadata": {},
   "outputs": [],
   "source": []
  },
  {
   "cell_type": "code",
   "execution_count": null,
   "metadata": {},
   "outputs": [],
   "source": []
  },
  {
   "cell_type": "code",
   "execution_count": null,
   "metadata": {
    "collapsed": true
   },
   "outputs": [],
   "source": []
  },
  {
   "cell_type": "code",
   "execution_count": 16,
   "metadata": {},
   "outputs": [],
   "source": []
  },
  {
   "cell_type": "code",
   "execution_count": null,
   "metadata": {},
   "outputs": [],
   "source": []
  },
  {
   "cell_type": "code",
   "execution_count": 17,
   "metadata": {},
   "outputs": [],
   "source": [
    "#Load the BEDfile and make sense of it\n",
    "genes = BedTool('gencode.v22.annotation.bed.gz')\n",
    "genes = genes.sort()\n",
    "\n",
    "bedfile = df.loc[:,('chromosome','start_position', 'start_position')]\n",
    "bedfile = BedTool(np.ndarray.tolist(np.array(bedfile)))\n",
    "bedfile = bedfile.sort()"
   ]
  },
  {
   "cell_type": "code",
   "execution_count": 18,
   "metadata": {},
   "outputs": [],
   "source": [
    "def hack1(x):\n",
    "    if (x == 'X'):\n",
    "        return 50\n",
    "    else:\n",
    "        if (x=='Y'):\n",
    "            return 51\n",
    "        else:\n",
    "            return x"
   ]
  },
  {
   "cell_type": "code",
   "execution_count": 19,
   "metadata": {},
   "outputs": [],
   "source": [
    "#this will function as a lookup table\n",
    "empty = np.zeros((214819, 4))\n",
    "count=0\n",
    "\n",
    "for nearest in BedTool(bedfile).closest(genes):\n",
    "    #print(nearest[1]) #[4:5]\n",
    "    empty[count,0] = hack1(nearest[0][3:])\n",
    "    empty[count,1] = nearest[1]\n",
    "    empty[count,2] = hack1(nearest[3][3:])\n",
    "    empty[count,3] = nearest[4]\n",
    "    count += 1"
   ]
  },
  {
   "cell_type": "code",
   "execution_count": null,
   "metadata": {},
   "outputs": [],
   "source": [
    "\n",
    "\n"
   ]
  },
  {
   "cell_type": "code",
   "execution_count": 20,
   "metadata": {},
   "outputs": [],
   "source": [
    "empty = empty.astype(int) #this mpas to 21,000 start points... Are they meaningful without chromosome number?\n",
    "#the range of the startpoint looks like it's distinct per chromosome, so yes"
   ]
  },
  {
   "cell_type": "code",
   "execution_count": 21,
   "metadata": {},
   "outputs": [],
   "source": [
    "keys1 = empty[:,0]\n",
    "keys2 = empty[:,1]\n",
    "values = empty[:,3]\n",
    "mydict = dict(zip( zip(keys1.astype(int), keys2.astype(int)), values.astype(int)))\n",
    "\n"
   ]
  },
  {
   "cell_type": "code",
   "execution_count": null,
   "metadata": {},
   "outputs": [],
   "source": []
  },
  {
   "cell_type": "code",
   "execution_count": 23,
   "metadata": {},
   "outputs": [],
   "source": [
    "#test = np.ndarray.tolist(np.array(test))\n",
    "#test = BedTool(test)\n",
    "#print(test)"
   ]
  },
  {
   "cell_type": "code",
   "execution_count": 24,
   "metadata": {},
   "outputs": [],
   "source": [
    "#for nearest in BedTool(bedfile).closest(genes):\n",
    " #   print(nearest)\n",
    "\n",
    "    "
   ]
  },
  {
   "cell_type": "code",
   "execution_count": null,
   "metadata": {},
   "outputs": [],
   "source": []
  },
  {
   "cell_type": "code",
   "execution_count": 25,
   "metadata": {},
   "outputs": [],
   "source": [
    "#in df: chromosome, start_position\n",
    "#make a new chromosome col to conform with the np array\n",
    "#strip chr from new chrom col\n",
    "df['new_chr'] = df['chromosome'].str.slice(3,)\n",
    "df['new_chr'] = df['new_chr'] .apply (hack1)\n",
    "\n",
    "\n",
    "\n",
    "#make a dictionary out of the lookup table\n",
    "#want to add to 'df' dataframe: 'closest_gene' for each of 182,000 lines\n",
    "\n",
    "\n",
    "empty_list = []\n",
    "\n",
    "tuples = zip(np.array(df['new_chr']).astype(int), np.array(df['start_position']))\n",
    "#x = np.array(df['new_chr']).astype(int)\n",
    "#y = np.array(df['start_position'])\n",
    "\n",
    "for x,y in tuples:\n",
    "    empty_list.append( mydict[(x,y)] )\n",
    "\n",
    "df['closest'] = empty_list\n",
    "\n",
    "\n",
    "#then have to run it through the averaging thing againd\n"
   ]
  },
  {
   "cell_type": "code",
   "execution_count": 26,
   "metadata": {},
   "outputs": [],
   "source": [
    "#aggregate the various mutations and associated genes for each case\n",
    "#then determine whether the algorithm needs to be multiclass (one class per case) or multilabel (up to several)\n",
    "\n",
    "#by case:\n",
    "\n",
    "#initialize\n",
    "\n",
    "data3 = pd.concat([df[[ 'case_id', 'primary_site', 'closest']], data], axis=1)\n",
    "\n",
    "cases = pd.DataFrame(0, index=[0], columns=data3.columns[2:])\n",
    "\n",
    "target = []\n",
    "\n",
    "for n in df['case_id'].unique():\n",
    "    new_case = pd.DataFrame(data3[data3['case_id']== n ])\n",
    "    \n",
    "    new_primary_site = np.array(new_case.primary_site)[0]\n",
    "    target.append(new_primary_site)\n",
    "\n",
    "    del new_case['case_id']\n",
    "    del new_case['primary_site']\n",
    "\n",
    "    new_mat = pd.DataFrame(new_case.mean(axis=0)).T #average across the one-hots, or median across the one-hots\n",
    "    cases = cases.append(new_mat)\n",
    "\n",
    "cases = cases.iloc[1:] "
   ]
  },
  {
   "cell_type": "code",
   "execution_count": null,
   "metadata": {},
   "outputs": [],
   "source": []
  },
  {
   "cell_type": "code",
   "execution_count": 28,
   "metadata": {},
   "outputs": [
    {
     "data": {
      "text/html": [
       "<div>\n",
       "<style scoped>\n",
       "    .dataframe tbody tr th:only-of-type {\n",
       "        vertical-align: middle;\n",
       "    }\n",
       "\n",
       "    .dataframe tbody tr th {\n",
       "        vertical-align: top;\n",
       "    }\n",
       "\n",
       "    .dataframe thead th {\n",
       "        text-align: right;\n",
       "    }\n",
       "</style>\n",
       "<table border=\"1\" class=\"dataframe\">\n",
       "  <thead>\n",
       "    <tr style=\"text-align: right;\">\n",
       "      <th></th>\n",
       "      <th>count</th>\n",
       "    </tr>\n",
       "  </thead>\n",
       "  <tbody>\n",
       "    <tr>\n",
       "      <th>Uterus</th>\n",
       "      <td>573</td>\n",
       "    </tr>\n",
       "    <tr>\n",
       "      <th>Brain</th>\n",
       "      <td>789</td>\n",
       "    </tr>\n",
       "    <tr>\n",
       "      <th>Colorectal</th>\n",
       "      <td>535</td>\n",
       "    </tr>\n",
       "    <tr>\n",
       "      <th>Cervix</th>\n",
       "      <td>283</td>\n",
       "    </tr>\n",
       "    <tr>\n",
       "      <th>Soft Tissue</th>\n",
       "      <td>210</td>\n",
       "    </tr>\n",
       "    <tr>\n",
       "      <th>Liver</th>\n",
       "      <td>356</td>\n",
       "    </tr>\n",
       "    <tr>\n",
       "      <th>Prostate</th>\n",
       "      <td>383</td>\n",
       "    </tr>\n",
       "    <tr>\n",
       "      <th>Breast</th>\n",
       "      <td>910</td>\n",
       "    </tr>\n",
       "    <tr>\n",
       "      <th>Skin</th>\n",
       "      <td>458</td>\n",
       "    </tr>\n",
       "    <tr>\n",
       "      <th>Kidney</th>\n",
       "      <td>634</td>\n",
       "    </tr>\n",
       "    <tr>\n",
       "      <th>Lung</th>\n",
       "      <td>1037</td>\n",
       "    </tr>\n",
       "    <tr>\n",
       "      <th>Bladder</th>\n",
       "      <td>407</td>\n",
       "    </tr>\n",
       "    <tr>\n",
       "      <th>Stomach</th>\n",
       "      <td>424</td>\n",
       "    </tr>\n",
       "    <tr>\n",
       "      <th>Head and Neck</th>\n",
       "      <td>496</td>\n",
       "    </tr>\n",
       "    <tr>\n",
       "      <th>Lymph Nodes</th>\n",
       "      <td>37</td>\n",
       "    </tr>\n",
       "    <tr>\n",
       "      <th>Esophagus</th>\n",
       "      <td>182</td>\n",
       "    </tr>\n",
       "    <tr>\n",
       "      <th>Ovary</th>\n",
       "      <td>424</td>\n",
       "    </tr>\n",
       "    <tr>\n",
       "      <th>Pancreas</th>\n",
       "      <td>153</td>\n",
       "    </tr>\n",
       "    <tr>\n",
       "      <th>Adrenal Gland</th>\n",
       "      <td>153</td>\n",
       "    </tr>\n",
       "    <tr>\n",
       "      <th>Eye</th>\n",
       "      <td>48</td>\n",
       "    </tr>\n",
       "    <tr>\n",
       "      <th>Testis</th>\n",
       "      <td>91</td>\n",
       "    </tr>\n",
       "    <tr>\n",
       "      <th>Bone Marrow</th>\n",
       "      <td>89</td>\n",
       "    </tr>\n",
       "    <tr>\n",
       "      <th>Pleura</th>\n",
       "      <td>75</td>\n",
       "    </tr>\n",
       "    <tr>\n",
       "      <th>Thyroid</th>\n",
       "      <td>232</td>\n",
       "    </tr>\n",
       "    <tr>\n",
       "      <th>Bile Duct</th>\n",
       "      <td>46</td>\n",
       "    </tr>\n",
       "    <tr>\n",
       "      <th>Thymus</th>\n",
       "      <td>72</td>\n",
       "    </tr>\n",
       "  </tbody>\n",
       "</table>\n",
       "</div>"
      ],
      "text/plain": [
       "               count\n",
       "Uterus           573\n",
       "Brain            789\n",
       "Colorectal       535\n",
       "Cervix           283\n",
       "Soft Tissue      210\n",
       "Liver            356\n",
       "Prostate         383\n",
       "Breast           910\n",
       "Skin             458\n",
       "Kidney           634\n",
       "Lung            1037\n",
       "Bladder          407\n",
       "Stomach          424\n",
       "Head and Neck    496\n",
       "Lymph Nodes       37\n",
       "Esophagus        182\n",
       "Ovary            424\n",
       "Pancreas         153\n",
       "Adrenal Gland    153\n",
       "Eye               48\n",
       "Testis            91\n",
       "Bone Marrow       89\n",
       "Pleura            75\n",
       "Thyroid          232\n",
       "Bile Duct         46\n",
       "Thymus            72"
      ]
     },
     "execution_count": 28,
     "metadata": {},
     "output_type": "execute_result"
    }
   ],
   "source": [
    "counts = pd.DataFrame(index=pd.Series(target).unique(),columns=['count'])\n",
    "\n",
    "for i in pd.Series(target).unique():\n",
    "    counts.loc[i, 'count'] = np.sum(pd.Series(target) == i)\n",
    "    \n",
    "counts"
   ]
  },
  {
   "cell_type": "code",
   "execution_count": null,
   "metadata": {
    "collapsed": true
   },
   "outputs": [],
   "source": []
  },
  {
   "cell_type": "code",
   "execution_count": 38,
   "metadata": {},
   "outputs": [
    {
     "data": {
      "text/plain": [
       "(7277, 43)"
      ]
     },
     "execution_count": 38,
     "metadata": {},
     "output_type": "execute_result"
    }
   ],
   "source": [
    "X_train.shape"
   ]
  },
  {
   "cell_type": "code",
   "execution_count": 37,
   "metadata": {},
   "outputs": [
    {
     "data": {
      "text/plain": [
       "0.2569714783724345"
      ]
     },
     "execution_count": 37,
     "metadata": {},
     "output_type": "execute_result"
    }
   ],
   "source": [
    "#Now for the aggregated data;\n",
    "\n",
    "#Split the data into training and test sets. \n",
    "#stratified sampling by iris class to ensure both the training and test sets contain a balanced \n",
    "#number of representatives of each of the three classes.\n",
    "\n",
    "X_train, X_test, y_train, y_test = train_test_split(cases, target, test_size=0.2, stratify=target, random_state=0)\n",
    "\n",
    "\n",
    "rf = RandomForestClassifier(n_estimators=100) #(n_estimators=100, oob_score=True, random_state=123456)\n",
    "\n",
    "#need stratification here also:\n",
    "cv = cross_val_score(rf, X_train, y_train, cv=10)\n",
    "#Consider using StratifiedKFold to preserve original data balance\n",
    "np.mean(cv)\n",
    "\n",
    "#26.2 for aggregated w/o closest"
   ]
  },
  {
   "cell_type": "code",
   "execution_count": 39,
   "metadata": {},
   "outputs": [
    {
     "data": {
      "text/plain": [
       "0.26868131868131867"
      ]
     },
     "execution_count": 39,
     "metadata": {},
     "output_type": "execute_result"
    }
   ],
   "source": [
    "from sklearn.metrics import accuracy_score\n",
    "\n",
    "rf_fit = rf.fit(X_train, y_train)\n",
    "\n",
    "predicted = rf.predict(X_test)\n",
    "accuracy = accuracy_score(y_test, predicted)\n",
    "accuracy"
   ]
  },
  {
   "cell_type": "code",
   "execution_count": null,
   "metadata": {
    "collapsed": true
   },
   "outputs": [],
   "source": []
  },
  {
   "cell_type": "code",
   "execution_count": 48,
   "metadata": {
    "collapsed": true
   },
   "outputs": [],
   "source": [
    "import matplotlib.pyplot as plt\n",
    "import seaborn as sns\n",
    "from sklearn.metrics import confusion_matrix\n",
    "cm = pd.DataFrame(confusion_matrix(y_test, predicted), columns=np.unique(target), index=np.unique(target))/np.sum(np.sum(cm), axis=0)"
   ]
  },
  {
   "cell_type": "code",
   "execution_count": null,
   "metadata": {},
   "outputs": [],
   "source": []
  },
  {
   "cell_type": "code",
   "execution_count": 49,
   "metadata": {},
   "outputs": [
    {
     "data": {
      "image/png": "[encoded data removed]",
      "text/plain": [
       "<matplotlib.figure.Figure at 0x1a0e866cc0>"
      ]
     },
     "metadata": {},
     "output_type": "display_data"
    },
    {
     "data": {
      "text/plain": [
       "<matplotlib.figure.Figure at 0x1a0e7b32e8>"
      ]
     },
     "execution_count": 49,
     "metadata": {},
     "output_type": "execute_result"
    }
   ],
   "source": [
    "sns.heatmap(cm, linewidth=0.1, cmap=\"YlGnBu\" )\n",
    "plt.show()\n",
    "plt.figure(figsize=(20,15))\n",
    "\n",
    "#Presentation is in percent of entire test population: i.e., 8.6% of entire population was classifed correctly as Lung"
   ]
  },
  {
   "cell_type": "code",
   "execution_count": 42,
   "metadata": {
    "scrolled": true
   },
   "outputs": [
    {
     "data": {
      "text/html": [
       "<div>\n",
       "<style scoped>\n",
       "    .dataframe tbody tr th:only-of-type {\n",
       "        vertical-align: middle;\n",
       "    }\n",
       "\n",
       "    .dataframe tbody tr th {\n",
       "        vertical-align: top;\n",
       "    }\n",
       "\n",
       "    .dataframe thead th {\n",
       "        text-align: right;\n",
       "    }\n",
       "</style>\n",
       "<table border=\"1\" class=\"dataframe\">\n",
       "  <thead>\n",
       "    <tr style=\"text-align: right;\">\n",
       "      <th></th>\n",
       "      <th>val</th>\n",
       "    </tr>\n",
       "  </thead>\n",
       "  <tbody>\n",
       "    <tr>\n",
       "      <th>start_position</th>\n",
       "      <td>0.075310</td>\n",
       "    </tr>\n",
       "    <tr>\n",
       "      <th>closest</th>\n",
       "      <td>0.073148</td>\n",
       "    </tr>\n",
       "    <tr>\n",
       "      <th>gene_citations</th>\n",
       "      <td>0.070954</td>\n",
       "    </tr>\n",
       "    <tr>\n",
       "      <th>bases_C&gt;T</th>\n",
       "      <td>0.036226</td>\n",
       "    </tr>\n",
       "    <tr>\n",
       "      <th>bases_G&gt;A</th>\n",
       "      <td>0.035915</td>\n",
       "    </tr>\n",
       "    <tr>\n",
       "      <th>bases_C&gt;A</th>\n",
       "      <td>0.033149</td>\n",
       "    </tr>\n",
       "    <tr>\n",
       "      <th>bases_G&gt;T</th>\n",
       "      <td>0.032630</td>\n",
       "    </tr>\n",
       "    <tr>\n",
       "      <th>bases_second_T</th>\n",
       "      <td>0.031741</td>\n",
       "    </tr>\n",
       "    <tr>\n",
       "      <th>bases_first_G</th>\n",
       "      <td>0.030845</td>\n",
       "    </tr>\n",
       "    <tr>\n",
       "      <th>bases_first_C</th>\n",
       "      <td>0.030742</td>\n",
       "    </tr>\n",
       "    <tr>\n",
       "      <th>chromosome_chr5</th>\n",
       "      <td>0.024022</td>\n",
       "    </tr>\n",
       "    <tr>\n",
       "      <th>chromosome_chr2</th>\n",
       "      <td>0.023604</td>\n",
       "    </tr>\n",
       "    <tr>\n",
       "      <th>chromosome_chr17</th>\n",
       "      <td>0.022781</td>\n",
       "    </tr>\n",
       "    <tr>\n",
       "      <th>bases_first_T</th>\n",
       "      <td>0.022192</td>\n",
       "    </tr>\n",
       "    <tr>\n",
       "      <th>bases_second_C</th>\n",
       "      <td>0.021558</td>\n",
       "    </tr>\n",
       "    <tr>\n",
       "      <th>chromosome_chr3</th>\n",
       "      <td>0.021495</td>\n",
       "    </tr>\n",
       "    <tr>\n",
       "      <th>chromosome_chr12</th>\n",
       "      <td>0.021445</td>\n",
       "    </tr>\n",
       "    <tr>\n",
       "      <th>chromosome_chr11</th>\n",
       "      <td>0.021305</td>\n",
       "    </tr>\n",
       "    <tr>\n",
       "      <th>chromosome_chr19</th>\n",
       "      <td>0.020992</td>\n",
       "    </tr>\n",
       "    <tr>\n",
       "      <th>chromosome_chr6</th>\n",
       "      <td>0.020659</td>\n",
       "    </tr>\n",
       "    <tr>\n",
       "      <th>bases_second_G</th>\n",
       "      <td>0.020528</td>\n",
       "    </tr>\n",
       "    <tr>\n",
       "      <th>chromosome_chrX</th>\n",
       "      <td>0.020246</td>\n",
       "    </tr>\n",
       "    <tr>\n",
       "      <th>bases_T&gt;A</th>\n",
       "      <td>0.019894</td>\n",
       "    </tr>\n",
       "    <tr>\n",
       "      <th>chromosome_chr7</th>\n",
       "      <td>0.019749</td>\n",
       "    </tr>\n",
       "    <tr>\n",
       "      <th>bases_A&gt;T</th>\n",
       "      <td>0.018836</td>\n",
       "    </tr>\n",
       "    <tr>\n",
       "      <th>chromosome_chr4</th>\n",
       "      <td>0.018468</td>\n",
       "    </tr>\n",
       "    <tr>\n",
       "      <th>chromosome_chr8</th>\n",
       "      <td>0.017856</td>\n",
       "    </tr>\n",
       "    <tr>\n",
       "      <th>chromosome_chr10</th>\n",
       "      <td>0.017458</td>\n",
       "    </tr>\n",
       "    <tr>\n",
       "      <th>bases_C&gt;G</th>\n",
       "      <td>0.017277</td>\n",
       "    </tr>\n",
       "    <tr>\n",
       "      <th>bases_G&gt;C</th>\n",
       "      <td>0.017153</td>\n",
       "    </tr>\n",
       "    <tr>\n",
       "      <th>chromosome_chr16</th>\n",
       "      <td>0.016576</td>\n",
       "    </tr>\n",
       "    <tr>\n",
       "      <th>chromosome_chr9</th>\n",
       "      <td>0.016380</td>\n",
       "    </tr>\n",
       "    <tr>\n",
       "      <th>chromosome_chr15</th>\n",
       "      <td>0.014882</td>\n",
       "    </tr>\n",
       "    <tr>\n",
       "      <th>chromosome_chr14</th>\n",
       "      <td>0.014388</td>\n",
       "    </tr>\n",
       "    <tr>\n",
       "      <th>chromosome_chr20</th>\n",
       "      <td>0.012110</td>\n",
       "    </tr>\n",
       "    <tr>\n",
       "      <th>chromosome_chr13</th>\n",
       "      <td>0.011758</td>\n",
       "    </tr>\n",
       "    <tr>\n",
       "      <th>chromosome_chr18</th>\n",
       "      <td>0.010708</td>\n",
       "    </tr>\n",
       "    <tr>\n",
       "      <th>chromosome_chr22</th>\n",
       "      <td>0.010581</td>\n",
       "    </tr>\n",
       "    <tr>\n",
       "      <th>bases_A&gt;G</th>\n",
       "      <td>0.010495</td>\n",
       "    </tr>\n",
       "    <tr>\n",
       "      <th>bases_T&gt;C</th>\n",
       "      <td>0.010423</td>\n",
       "    </tr>\n",
       "    <tr>\n",
       "      <th>bases_T&gt;G</th>\n",
       "      <td>0.006954</td>\n",
       "    </tr>\n",
       "    <tr>\n",
       "      <th>chromosome_chr21</th>\n",
       "      <td>0.006185</td>\n",
       "    </tr>\n",
       "    <tr>\n",
       "      <th>chromosome_chrY</th>\n",
       "      <td>0.000380</td>\n",
       "    </tr>\n",
       "  </tbody>\n",
       "</table>\n",
       "</div>"
      ],
      "text/plain": [
       "                       val\n",
       "start_position    0.075310\n",
       "closest           0.073148\n",
       "gene_citations    0.070954\n",
       "bases_C>T         0.036226\n",
       "bases_G>A         0.035915\n",
       "bases_C>A         0.033149\n",
       "bases_G>T         0.032630\n",
       "bases_second_T    0.031741\n",
       "bases_first_G     0.030845\n",
       "bases_first_C     0.030742\n",
       "chromosome_chr5   0.024022\n",
       "chromosome_chr2   0.023604\n",
       "chromosome_chr17  0.022781\n",
       "bases_first_T     0.022192\n",
       "bases_second_C    0.021558\n",
       "chromosome_chr3   0.021495\n",
       "chromosome_chr12  0.021445\n",
       "chromosome_chr11  0.021305\n",
       "chromosome_chr19  0.020992\n",
       "chromosome_chr6   0.020659\n",
       "bases_second_G    0.020528\n",
       "chromosome_chrX   0.020246\n",
       "bases_T>A         0.019894\n",
       "chromosome_chr7   0.019749\n",
       "bases_A>T         0.018836\n",
       "chromosome_chr4   0.018468\n",
       "chromosome_chr8   0.017856\n",
       "chromosome_chr10  0.017458\n",
       "bases_C>G         0.017277\n",
       "bases_G>C         0.017153\n",
       "chromosome_chr16  0.016576\n",
       "chromosome_chr9   0.016380\n",
       "chromosome_chr15  0.014882\n",
       "chromosome_chr14  0.014388\n",
       "chromosome_chr20  0.012110\n",
       "chromosome_chr13  0.011758\n",
       "chromosome_chr18  0.010708\n",
       "chromosome_chr22  0.010581\n",
       "bases_A>G         0.010495\n",
       "bases_T>C         0.010423\n",
       "bases_T>G         0.006954\n",
       "chromosome_chr21  0.006185\n",
       "chromosome_chrY   0.000380"
      ]
     },
     "execution_count": 42,
     "metadata": {},
     "output_type": "execute_result"
    }
   ],
   "source": [
    "#which features are most important\n",
    "features = pd.DataFrame(rf_fit.feature_importances_, cases.columns)\n",
    "features.columns = pd.Series('val')\n",
    "features\n",
    "features.sort_values(by='val', ascending=False)"
   ]
  },
  {
   "cell_type": "code",
   "execution_count": null,
   "metadata": {
    "collapsed": true
   },
   "outputs": [],
   "source": []
  },
  {
   "cell_type": "code",
   "execution_count": 43,
   "metadata": {},
   "outputs": [
    {
     "data": {
      "text/plain": [
       "0.038461538461538464"
      ]
     },
     "execution_count": 43,
     "metadata": {},
     "output_type": "execute_result"
    }
   ],
   "source": [
    "#a random classifier would have this accuracy:\n",
    "1/26\n"
   ]
  },
  {
   "cell_type": "code",
   "execution_count": null,
   "metadata": {},
   "outputs": [],
   "source": []
  },
  {
   "cell_type": "code",
   "execution_count": null,
   "metadata": {
    "collapsed": true
   },
   "outputs": [],
   "source": []
  }
 ],
 "metadata": {
  "kernelspec": {
   "display_name": "Python 3",
   "language": "python",
   "name": "python3"
  },
  "language_info": {
   "codemirror_mode": {
    "name": "ipython",
    "version": 3
   },
   "file_extension": ".py",
   "mimetype": "text/x-python",
   "name": "python",
   "nbconvert_exporter": "python",
   "pygments_lexer": "ipython3",
   "version": "3.6.3"
  }
 },
 "nbformat": 4,
 "nbformat_minor": 2
}
